{
 "cells": [
  {
   "cell_type": "markdown",
   "id": "451fee6c",
   "metadata": {},
   "source": [
    "### PULA TECHNICAL ASSESSMENT\n",
    "The purpose of this exercise is threefold:\n",
    "  1. Analyze the provided data and construct a model.\n",
    "  2. Systematically document your approach and methodology, ensuring that it's comprehensible for both a fellow candidate and a senior analyst.\n",
    "  3. Critically evaluate the methods employed and the resulting outputs.\n"
   ]
  },
  {
   "cell_type": "markdown",
   "id": "9b77d54f",
   "metadata": {},
   "source": [
    "### Import the necessary libraries"
   ]
  },
  {
   "cell_type": "code",
   "execution_count": 1,
   "id": "8d3ab18f",
   "metadata": {},
   "outputs": [],
   "source": [
    "import pandas as pd\n",
    "import numpy as np\n",
    "import matplotlib.pyplot as plt\n",
    "import warnings \n",
    "import numpy_financial as npf\n",
    "import numpy as np\n",
    "from scipy.optimize import fsolve\n",
    "import seaborn as sns\n",
    "warnings.filterwarnings(\"ignore\")"
   ]
  },
  {
   "cell_type": "markdown",
   "id": "a54f43fe",
   "metadata": {},
   "source": [
    "### Read the data to a Pandas DataFrame and perform Explaratory Data Analysis"
   ]
  },
  {
   "cell_type": "code",
   "execution_count": 2,
   "id": "64b4f0db",
   "metadata": {},
   "outputs": [
    {
     "data": {
      "text/html": [
       "<div>\n",
       "<style scoped>\n",
       "    .dataframe tbody tr th:only-of-type {\n",
       "        vertical-align: middle;\n",
       "    }\n",
       "\n",
       "    .dataframe tbody tr th {\n",
       "        vertical-align: top;\n",
       "    }\n",
       "\n",
       "    .dataframe thead th {\n",
       "        text-align: right;\n",
       "    }\n",
       "</style>\n",
       "<table border=\"1\" class=\"dataframe\">\n",
       "  <thead>\n",
       "    <tr style=\"text-align: right;\">\n",
       "      <th></th>\n",
       "      <th>Hour</th>\n",
       "      <th>Date/hour start</th>\n",
       "      <th>Solar electricity generation (kWh)</th>\n",
       "      <th>Electricity usage (kWh)</th>\n",
       "    </tr>\n",
       "  </thead>\n",
       "  <tbody>\n",
       "    <tr>\n",
       "      <th>0</th>\n",
       "      <td>0</td>\n",
       "      <td>2020-01-01 00:00:00</td>\n",
       "      <td>0.0</td>\n",
       "      <td>1.509849</td>\n",
       "    </tr>\n",
       "    <tr>\n",
       "      <th>1</th>\n",
       "      <td>1</td>\n",
       "      <td>2020-01-01 01:00:00</td>\n",
       "      <td>0.0</td>\n",
       "      <td>1.411859</td>\n",
       "    </tr>\n",
       "    <tr>\n",
       "      <th>2</th>\n",
       "      <td>2</td>\n",
       "      <td>2020-01-01 02:00:00</td>\n",
       "      <td>0.0</td>\n",
       "      <td>1.023898</td>\n",
       "    </tr>\n",
       "    <tr>\n",
       "      <th>3</th>\n",
       "      <td>3</td>\n",
       "      <td>2020-01-01 03:00:00</td>\n",
       "      <td>0.0</td>\n",
       "      <td>0.642000</td>\n",
       "    </tr>\n",
       "    <tr>\n",
       "      <th>4</th>\n",
       "      <td>4</td>\n",
       "      <td>2020-01-01 04:00:00</td>\n",
       "      <td>0.0</td>\n",
       "      <td>0.960000</td>\n",
       "    </tr>\n",
       "  </tbody>\n",
       "</table>\n",
       "</div>"
      ],
      "text/plain": [
       "   Hour     Date/hour start  Solar electricity generation (kWh)  \\\n",
       "0     0 2020-01-01 00:00:00                                 0.0   \n",
       "1     1 2020-01-01 01:00:00                                 0.0   \n",
       "2     2 2020-01-01 02:00:00                                 0.0   \n",
       "3     3 2020-01-01 03:00:00                                 0.0   \n",
       "4     4 2020-01-01 04:00:00                                 0.0   \n",
       "\n",
       "   Electricity usage (kWh)  \n",
       "0                 1.509849  \n",
       "1                 1.411859  \n",
       "2                 1.023898  \n",
       "3                 0.642000  \n",
       "4                 0.960000  "
      ]
     },
     "execution_count": 2,
     "metadata": {},
     "output_type": "execute_result"
    }
   ],
   "source": [
    "data = pd.read_excel(\"data.xlsx\",skiprows=2) \n",
    "## I noticed when I performed the pd.read_excel, the columns were pushed down 2 rows so I used the skiprows\n",
    "data.head()"
   ]
  },
  {
   "cell_type": "code",
   "execution_count": 3,
   "id": "3a009040",
   "metadata": {},
   "outputs": [
    {
     "name": "stdout",
     "output_type": "stream",
     "text": [
      "<class 'pandas.core.frame.DataFrame'>\n",
      "RangeIndex: 8760 entries, 0 to 8759\n",
      "Data columns (total 4 columns):\n",
      " #   Column                              Non-Null Count  Dtype         \n",
      "---  ------                              --------------  -----         \n",
      " 0   Hour                                8760 non-null   int64         \n",
      " 1   Date/hour start                     8760 non-null   datetime64[ns]\n",
      " 2   Solar electricity generation (kWh)  8760 non-null   float64       \n",
      " 3   Electricity usage (kWh)             8760 non-null   float64       \n",
      "dtypes: datetime64[ns](1), float64(2), int64(1)\n",
      "memory usage: 273.9 KB\n"
     ]
    }
   ],
   "source": [
    "#data information such as data types and number and name of rows and columns present\n",
    "data.info()"
   ]
  },
  {
   "cell_type": "code",
   "execution_count": 4,
   "id": "d552a097",
   "metadata": {},
   "outputs": [
    {
     "data": {
      "text/html": [
       "<div>\n",
       "<style scoped>\n",
       "    .dataframe tbody tr th:only-of-type {\n",
       "        vertical-align: middle;\n",
       "    }\n",
       "\n",
       "    .dataframe tbody tr th {\n",
       "        vertical-align: top;\n",
       "    }\n",
       "\n",
       "    .dataframe thead th {\n",
       "        text-align: right;\n",
       "    }\n",
       "</style>\n",
       "<table border=\"1\" class=\"dataframe\">\n",
       "  <thead>\n",
       "    <tr style=\"text-align: right;\">\n",
       "      <th></th>\n",
       "      <th>Hour</th>\n",
       "      <th>Date/hour start</th>\n",
       "      <th>Solar electricity generation (kWh)</th>\n",
       "      <th>Electricity usage (kWh)</th>\n",
       "    </tr>\n",
       "  </thead>\n",
       "  <tbody>\n",
       "    <tr>\n",
       "      <th>count</th>\n",
       "      <td>8760.000000</td>\n",
       "      <td>8760</td>\n",
       "      <td>8760.000000</td>\n",
       "      <td>8760.000000</td>\n",
       "    </tr>\n",
       "    <tr>\n",
       "      <th>mean</th>\n",
       "      <td>11.500000</td>\n",
       "      <td>2020-07-02 07:37:13.972602624</td>\n",
       "      <td>1.116750</td>\n",
       "      <td>7.312704</td>\n",
       "    </tr>\n",
       "    <tr>\n",
       "      <th>min</th>\n",
       "      <td>0.000000</td>\n",
       "      <td>2020-01-01 00:00:00</td>\n",
       "      <td>0.000000</td>\n",
       "      <td>-12.624000</td>\n",
       "    </tr>\n",
       "    <tr>\n",
       "      <th>25%</th>\n",
       "      <td>5.750000</td>\n",
       "      <td>2020-04-02 05:45:00</td>\n",
       "      <td>0.000000</td>\n",
       "      <td>0.300000</td>\n",
       "    </tr>\n",
       "    <tr>\n",
       "      <th>50%</th>\n",
       "      <td>11.500000</td>\n",
       "      <td>2020-07-02 11:30:00</td>\n",
       "      <td>0.024000</td>\n",
       "      <td>0.621000</td>\n",
       "    </tr>\n",
       "    <tr>\n",
       "      <th>75%</th>\n",
       "      <td>17.250000</td>\n",
       "      <td>2020-10-01 17:15:00</td>\n",
       "      <td>1.272750</td>\n",
       "      <td>1.686000</td>\n",
       "    </tr>\n",
       "    <tr>\n",
       "      <th>max</th>\n",
       "      <td>23.000000</td>\n",
       "      <td>2020-12-31 23:00:00</td>\n",
       "      <td>13.050000</td>\n",
       "      <td>46000.000000</td>\n",
       "    </tr>\n",
       "    <tr>\n",
       "      <th>std</th>\n",
       "      <td>6.922582</td>\n",
       "      <td>NaN</td>\n",
       "      <td>2.026098</td>\n",
       "      <td>491.479806</td>\n",
       "    </tr>\n",
       "  </tbody>\n",
       "</table>\n",
       "</div>"
      ],
      "text/plain": [
       "              Hour                Date/hour start  \\\n",
       "count  8760.000000                           8760   \n",
       "mean     11.500000  2020-07-02 07:37:13.972602624   \n",
       "min       0.000000            2020-01-01 00:00:00   \n",
       "25%       5.750000            2020-04-02 05:45:00   \n",
       "50%      11.500000            2020-07-02 11:30:00   \n",
       "75%      17.250000            2020-10-01 17:15:00   \n",
       "max      23.000000            2020-12-31 23:00:00   \n",
       "std       6.922582                            NaN   \n",
       "\n",
       "       Solar electricity generation (kWh)  Electricity usage (kWh)  \n",
       "count                         8760.000000              8760.000000  \n",
       "mean                             1.116750                 7.312704  \n",
       "min                              0.000000               -12.624000  \n",
       "25%                              0.000000                 0.300000  \n",
       "50%                              0.024000                 0.621000  \n",
       "75%                              1.272750                 1.686000  \n",
       "max                             13.050000             46000.000000  \n",
       "std                              2.026098               491.479806  "
      ]
     },
     "execution_count": 4,
     "metadata": {},
     "output_type": "execute_result"
    }
   ],
   "source": [
    "#statistical description\n",
    "data.describe()"
   ]
  },
  {
   "cell_type": "code",
   "execution_count": 5,
   "id": "9f47eb2c",
   "metadata": {},
   "outputs": [
    {
     "data": {
      "text/plain": [
       "Hour                                  0\n",
       "Date/hour start                       0\n",
       "Solar electricity generation (kWh)    0\n",
       "Electricity usage (kWh)               0\n",
       "dtype: int64"
      ]
     },
     "execution_count": 5,
     "metadata": {},
     "output_type": "execute_result"
    }
   ],
   "source": [
    "##checking for null values\n",
    "data.isnull().sum()"
   ]
  },
  {
   "cell_type": "code",
   "execution_count": 6,
   "id": "364e0cba",
   "metadata": {},
   "outputs": [
    {
     "data": {
      "text/plain": [
       "Index(['Hour', 'Date/hour start', 'Solar electricity generation (kWh)',\n",
       "       'Electricity usage (kWh)'],\n",
       "      dtype='object')"
      ]
     },
     "execution_count": 6,
     "metadata": {},
     "output_type": "execute_result"
    }
   ],
   "source": [
    "##how many columns does the datset have?\n",
    "data.columns"
   ]
  },
  {
   "cell_type": "markdown",
   "id": "eec972f7",
   "metadata": {},
   "source": [
    "#### Question 1\n",
    "(i)\tCarry out checks on the data provided to confirm that the data is complete and fit for use. This should include:\n",
    "\n",
    "• Creating a graph showing the average solar electricity generation and average electricity usage for each hour in a day, i.e. the average over all amounts for 1 am, and each subsequent hour within a 24-hour period."
   ]
  },
  {
   "cell_type": "code",
   "execution_count": 7,
   "id": "af2bfcfe",
   "metadata": {},
   "outputs": [
    {
     "data": {
      "image/png": "[encoded data removed]",
      "text/plain": [
       "<Figure size 1000x600 with 1 Axes>"
      ]
     },
     "metadata": {},
     "output_type": "display_data"
    }
   ],
   "source": [
    "# Create a new column for the hour of the day\n",
    "data['Hour'] = data['Date/hour start'].dt.hour\n",
    "\n",
    "# Calculate average solar electricity generation and electricity usage for each hour\n",
    "hourly_avg = data.groupby('Hour').mean()\n",
    "\n",
    "# Plot the average solar electricity generation and electricity usage for each hour\n",
    "plt.figure(figsize=(10, 6))\n",
    "sns.lineplot(data=hourly_avg[['Solar electricity generation (kWh)', 'Electricity usage (kWh)']])\n",
    "plt.xlabel('Hour of the day')\n",
    "plt.ylabel('Average electricity (kWh)')\n",
    "plt.title('Average Solar Electricity Generation and Electricity Usage by Hour')\n",
    "plt.show()"
   ]
  },
  {
   "cell_type": "code",
   "execution_count": 8,
   "id": "4e254fea",
   "metadata": {},
   "outputs": [
    {
     "data": {
      "image/png": "[encoded data removed]",
      "text/plain": [
       "<Figure size 1000x600 with 1 Axes>"
      ]
     },
     "metadata": {},
     "output_type": "display_data"
    }
   ],
   "source": [
    "# Investigate outliers using box plots\n",
    "plt.figure(figsize=(10, 6))\n",
    "sns.boxplot(data=data[['Solar electricity generation (kWh)', 'Electricity usage (kWh)']])\n",
    "plt.xlabel('Variable')\n",
    "plt.ylabel('Electricity (kWh)')\n",
    "plt.title('Outliers in Solar Electricity Generation and Electricity Usage')\n",
    "plt.show()"
   ]
  },
  {
   "cell_type": "code",
   "execution_count": 9,
   "id": "56349fb9",
   "metadata": {},
   "outputs": [],
   "source": [
    "### Winsorization to limit outliers to a certain percentile\n",
    "data['Solar electricity generation (kWh)'] = data['Solar electricity generation (kWh)'].clip(lower=data['Solar electricity generation (kWh)'].quantile(0.01), upper=data['Solar electricity generation (kWh)'].quantile(0.99))\n",
    "data['Electricity usage (kWh)'] = data['Electricity usage (kWh)'].clip(lower=data['Electricity usage (kWh)'].quantile(0.01), upper=data['Electricity usage (kWh)'].quantile(0.99))\n"
   ]
  },
  {
   "cell_type": "code",
   "execution_count": 10,
   "id": "b7164a6a",
   "metadata": {},
   "outputs": [
    {
     "data": {
      "image/png": "[encoded data removed]",
      "text/plain": [
       "<Figure size 1000x600 with 1 Axes>"
      ]
     },
     "metadata": {},
     "output_type": "display_data"
    }
   ],
   "source": [
    "# Re-calculate average after outlier correction\n",
    "hourly_avg_corrected = data.groupby('Hour').mean()\n",
    "\n",
    "# Plot the corrected average solar electricity generation and electricity usage for each hour\n",
    "plt.figure(figsize=(10, 6))\n",
    "sns.lineplot(data=hourly_avg_corrected[['Solar electricity generation (kWh)', 'Electricity usage (kWh)']])\n",
    "plt.xlabel('Hour of the day')\n",
    "plt.ylabel('Average electricity (kWh)')\n",
    "plt.title('Corrected Average Solar Electricity Generation and Electricity Usage by Hour')\n",
    "plt.show()\n"
   ]
  },
  {
   "cell_type": "markdown",
   "id": "0357176c",
   "metadata": {},
   "source": [
    "#### Question 2\n",
    "(ii) Calculate, for each hour in 2020, the amount of electricity that needed to be bought from the electricity provider (measured in kWh and subject to a minimum of zero).\t"
   ]
  },
  {
   "cell_type": "code",
   "execution_count": 12,
   "id": "0b455d16",
   "metadata": {},
   "outputs": [
    {
     "data": {
      "text/html": [
       "<div>\n",
       "<style scoped>\n",
       "    .dataframe tbody tr th:only-of-type {\n",
       "        vertical-align: middle;\n",
       "    }\n",
       "\n",
       "    .dataframe tbody tr th {\n",
       "        vertical-align: top;\n",
       "    }\n",
       "\n",
       "    .dataframe thead th {\n",
       "        text-align: right;\n",
       "    }\n",
       "</style>\n",
       "<table border=\"1\" class=\"dataframe\">\n",
       "  <thead>\n",
       "    <tr style=\"text-align: right;\">\n",
       "      <th></th>\n",
       "      <th>Hour</th>\n",
       "      <th>Date/hour start</th>\n",
       "      <th>Electricity bought (kWh)</th>\n",
       "    </tr>\n",
       "  </thead>\n",
       "  <tbody>\n",
       "    <tr>\n",
       "      <th>0</th>\n",
       "      <td>0</td>\n",
       "      <td>2020-01-01 00:00:00</td>\n",
       "      <td>1.509849</td>\n",
       "    </tr>\n",
       "    <tr>\n",
       "      <th>1</th>\n",
       "      <td>1</td>\n",
       "      <td>2020-01-01 01:00:00</td>\n",
       "      <td>1.411859</td>\n",
       "    </tr>\n",
       "    <tr>\n",
       "      <th>2</th>\n",
       "      <td>2</td>\n",
       "      <td>2020-01-01 02:00:00</td>\n",
       "      <td>1.023898</td>\n",
       "    </tr>\n",
       "    <tr>\n",
       "      <th>3</th>\n",
       "      <td>3</td>\n",
       "      <td>2020-01-01 03:00:00</td>\n",
       "      <td>0.642000</td>\n",
       "    </tr>\n",
       "    <tr>\n",
       "      <th>4</th>\n",
       "      <td>4</td>\n",
       "      <td>2020-01-01 04:00:00</td>\n",
       "      <td>0.960000</td>\n",
       "    </tr>\n",
       "    <tr>\n",
       "      <th>...</th>\n",
       "      <td>...</td>\n",
       "      <td>...</td>\n",
       "      <td>...</td>\n",
       "    </tr>\n",
       "    <tr>\n",
       "      <th>8755</th>\n",
       "      <td>19</td>\n",
       "      <td>2020-12-31 19:00:00</td>\n",
       "      <td>4.383600</td>\n",
       "    </tr>\n",
       "    <tr>\n",
       "      <th>8756</th>\n",
       "      <td>20</td>\n",
       "      <td>2020-12-31 20:00:00</td>\n",
       "      <td>4.557600</td>\n",
       "    </tr>\n",
       "    <tr>\n",
       "      <th>8757</th>\n",
       "      <td>21</td>\n",
       "      <td>2020-12-31 21:00:00</td>\n",
       "      <td>2.022000</td>\n",
       "    </tr>\n",
       "    <tr>\n",
       "      <th>8758</th>\n",
       "      <td>22</td>\n",
       "      <td>2020-12-31 22:00:00</td>\n",
       "      <td>1.653000</td>\n",
       "    </tr>\n",
       "    <tr>\n",
       "      <th>8759</th>\n",
       "      <td>23</td>\n",
       "      <td>2020-12-31 23:00:00</td>\n",
       "      <td>0.805919</td>\n",
       "    </tr>\n",
       "  </tbody>\n",
       "</table>\n",
       "<p>8760 rows × 3 columns</p>\n",
       "</div>"
      ],
      "text/plain": [
       "      Hour     Date/hour start  Electricity bought (kWh)\n",
       "0        0 2020-01-01 00:00:00                  1.509849\n",
       "1        1 2020-01-01 01:00:00                  1.411859\n",
       "2        2 2020-01-01 02:00:00                  1.023898\n",
       "3        3 2020-01-01 03:00:00                  0.642000\n",
       "4        4 2020-01-01 04:00:00                  0.960000\n",
       "...    ...                 ...                       ...\n",
       "8755    19 2020-12-31 19:00:00                  4.383600\n",
       "8756    20 2020-12-31 20:00:00                  4.557600\n",
       "8757    21 2020-12-31 21:00:00                  2.022000\n",
       "8758    22 2020-12-31 22:00:00                  1.653000\n",
       "8759    23 2020-12-31 23:00:00                  0.805919\n",
       "\n",
       "[8760 rows x 3 columns]"
      ]
     },
     "execution_count": 12,
     "metadata": {},
     "output_type": "execute_result"
    }
   ],
   "source": [
    "# Calculate the amount of electricity that needed to be bought from the electricity provider\n",
    "data['Electricity bought (kWh)'] = data['Electricity usage (kWh)'] - data['Solar electricity generation (kWh)']\n",
    "data['Electricity bought (kWh)'] = data['Electricity bought (kWh)'].clip(lower=0)\n",
    "\n",
    "# Print the calculated values\n",
    "data[['Hour', 'Date/hour start', 'Electricity bought (kWh)']]"
   ]
  },
  {
   "cell_type": "markdown",
   "id": "cf5dcab5",
   "metadata": {},
   "source": [
    "##### Question 3\n",
    "(iii)\tCalculate, for each hour in 2020, the excess solar electricity generated over electricity used (measured in kWh and subject to a minimum of zero)."
   ]
  },
  {
   "cell_type": "code",
   "execution_count": 14,
   "id": "14f2cd12",
   "metadata": {},
   "outputs": [
    {
     "data": {
      "text/html": [
       "<div>\n",
       "<style scoped>\n",
       "    .dataframe tbody tr th:only-of-type {\n",
       "        vertical-align: middle;\n",
       "    }\n",
       "\n",
       "    .dataframe tbody tr th {\n",
       "        vertical-align: top;\n",
       "    }\n",
       "\n",
       "    .dataframe thead th {\n",
       "        text-align: right;\n",
       "    }\n",
       "</style>\n",
       "<table border=\"1\" class=\"dataframe\">\n",
       "  <thead>\n",
       "    <tr style=\"text-align: right;\">\n",
       "      <th></th>\n",
       "      <th>Hour</th>\n",
       "      <th>Excess Solar Electricity (kWh)</th>\n",
       "    </tr>\n",
       "  </thead>\n",
       "  <tbody>\n",
       "    <tr>\n",
       "      <th>9</th>\n",
       "      <td>9</td>\n",
       "      <td>0.240</td>\n",
       "    </tr>\n",
       "    <tr>\n",
       "      <th>12</th>\n",
       "      <td>12</td>\n",
       "      <td>0.255</td>\n",
       "    </tr>\n",
       "    <tr>\n",
       "      <th>17</th>\n",
       "      <td>17</td>\n",
       "      <td>0.006</td>\n",
       "    </tr>\n",
       "    <tr>\n",
       "      <th>58</th>\n",
       "      <td>10</td>\n",
       "      <td>0.189</td>\n",
       "    </tr>\n",
       "    <tr>\n",
       "      <th>59</th>\n",
       "      <td>11</td>\n",
       "      <td>0.267</td>\n",
       "    </tr>\n",
       "    <tr>\n",
       "      <th>...</th>\n",
       "      <td>...</td>\n",
       "      <td>...</td>\n",
       "    </tr>\n",
       "    <tr>\n",
       "      <th>8723</th>\n",
       "      <td>11</td>\n",
       "      <td>0.123</td>\n",
       "    </tr>\n",
       "    <tr>\n",
       "      <th>8724</th>\n",
       "      <td>12</td>\n",
       "      <td>2.649</td>\n",
       "    </tr>\n",
       "    <tr>\n",
       "      <th>8725</th>\n",
       "      <td>13</td>\n",
       "      <td>0.129</td>\n",
       "    </tr>\n",
       "    <tr>\n",
       "      <th>8749</th>\n",
       "      <td>13</td>\n",
       "      <td>2.064</td>\n",
       "    </tr>\n",
       "    <tr>\n",
       "      <th>8750</th>\n",
       "      <td>14</td>\n",
       "      <td>0.447</td>\n",
       "    </tr>\n",
       "  </tbody>\n",
       "</table>\n",
       "<p>2622 rows × 2 columns</p>\n",
       "</div>"
      ],
      "text/plain": [
       "      Hour  Excess Solar Electricity (kWh)\n",
       "9        9                           0.240\n",
       "12      12                           0.255\n",
       "17      17                           0.006\n",
       "58      10                           0.189\n",
       "59      11                           0.267\n",
       "...    ...                             ...\n",
       "8723    11                           0.123\n",
       "8724    12                           2.649\n",
       "8725    13                           0.129\n",
       "8749    13                           2.064\n",
       "8750    14                           0.447\n",
       "\n",
       "[2622 rows x 2 columns]"
      ]
     },
     "execution_count": 14,
     "metadata": {},
     "output_type": "execute_result"
    }
   ],
   "source": [
    "data['Excess Solar Electricity (kWh)'] = data['Solar electricity generation (kWh)'] - data['Electricity usage (kWh)']\n",
    "\n",
    "# Print the calculated values higher than zero\n",
    "data[data['Excess Solar Electricity (kWh)'] > 0][['Hour', 'Excess Solar Electricity (kWh)']]"
   ]
  },
  {
   "cell_type": "markdown",
   "id": "427725d1",
   "metadata": {},
   "source": [
    "##### Question 4\n",
    "(iv)\tModel the cumulative battery charge level (measured in kWh) for each hour over 2020, assuming a battery had already been installed.\n",
    "\n",
    "The battery charge level should:\n",
    "\n",
    "•\tbegin at zero at 1 January 2020 00:00.\n",
    "\n",
    "•\tallow for the increase or decrease in charge level depending on the hourly results of parts (ii) and (iii).\n",
    "\n",
    "•\tbe subject to the cap on the maximum battery charge level.\n"
   ]
  },
  {
   "cell_type": "code",
   "execution_count": 16,
   "id": "404abc26",
   "metadata": {},
   "outputs": [
    {
     "data": {
      "text/html": [
       "<div>\n",
       "<style scoped>\n",
       "    .dataframe tbody tr th:only-of-type {\n",
       "        vertical-align: middle;\n",
       "    }\n",
       "\n",
       "    .dataframe tbody tr th {\n",
       "        vertical-align: top;\n",
       "    }\n",
       "\n",
       "    .dataframe thead th {\n",
       "        text-align: right;\n",
       "    }\n",
       "</style>\n",
       "<table border=\"1\" class=\"dataframe\">\n",
       "  <thead>\n",
       "    <tr style=\"text-align: right;\">\n",
       "      <th></th>\n",
       "      <th>Hour</th>\n",
       "      <th>Date/hour start</th>\n",
       "      <th>Cumulative battery charge level (kWh)</th>\n",
       "    </tr>\n",
       "  </thead>\n",
       "  <tbody>\n",
       "    <tr>\n",
       "      <th>0</th>\n",
       "      <td>0</td>\n",
       "      <td>2020-01-01 00:00:00</td>\n",
       "      <td>-1.509849</td>\n",
       "    </tr>\n",
       "    <tr>\n",
       "      <th>1</th>\n",
       "      <td>1</td>\n",
       "      <td>2020-01-01 01:00:00</td>\n",
       "      <td>-2.921708</td>\n",
       "    </tr>\n",
       "    <tr>\n",
       "      <th>2</th>\n",
       "      <td>2</td>\n",
       "      <td>2020-01-01 02:00:00</td>\n",
       "      <td>-3.945605</td>\n",
       "    </tr>\n",
       "    <tr>\n",
       "      <th>3</th>\n",
       "      <td>3</td>\n",
       "      <td>2020-01-01 03:00:00</td>\n",
       "      <td>-4.587605</td>\n",
       "    </tr>\n",
       "    <tr>\n",
       "      <th>4</th>\n",
       "      <td>4</td>\n",
       "      <td>2020-01-01 04:00:00</td>\n",
       "      <td>-5.547605</td>\n",
       "    </tr>\n",
       "    <tr>\n",
       "      <th>...</th>\n",
       "      <td>...</td>\n",
       "      <td>...</td>\n",
       "      <td>...</td>\n",
       "    </tr>\n",
       "    <tr>\n",
       "      <th>8755</th>\n",
       "      <td>19</td>\n",
       "      <td>2020-12-31 19:00:00</td>\n",
       "      <td>-7796.239143</td>\n",
       "    </tr>\n",
       "    <tr>\n",
       "      <th>8756</th>\n",
       "      <td>20</td>\n",
       "      <td>2020-12-31 20:00:00</td>\n",
       "      <td>-7800.796743</td>\n",
       "    </tr>\n",
       "    <tr>\n",
       "      <th>8757</th>\n",
       "      <td>21</td>\n",
       "      <td>2020-12-31 21:00:00</td>\n",
       "      <td>-7802.818743</td>\n",
       "    </tr>\n",
       "    <tr>\n",
       "      <th>8758</th>\n",
       "      <td>22</td>\n",
       "      <td>2020-12-31 22:00:00</td>\n",
       "      <td>-7804.471743</td>\n",
       "    </tr>\n",
       "    <tr>\n",
       "      <th>8759</th>\n",
       "      <td>23</td>\n",
       "      <td>2020-12-31 23:00:00</td>\n",
       "      <td>-7805.277663</td>\n",
       "    </tr>\n",
       "  </tbody>\n",
       "</table>\n",
       "<p>8760 rows × 3 columns</p>\n",
       "</div>"
      ],
      "text/plain": [
       "      Hour     Date/hour start  Cumulative battery charge level (kWh)\n",
       "0        0 2020-01-01 00:00:00                              -1.509849\n",
       "1        1 2020-01-01 01:00:00                              -2.921708\n",
       "2        2 2020-01-01 02:00:00                              -3.945605\n",
       "3        3 2020-01-01 03:00:00                              -4.587605\n",
       "4        4 2020-01-01 04:00:00                              -5.547605\n",
       "...    ...                 ...                                    ...\n",
       "8755    19 2020-12-31 19:00:00                           -7796.239143\n",
       "8756    20 2020-12-31 20:00:00                           -7800.796743\n",
       "8757    21 2020-12-31 21:00:00                           -7802.818743\n",
       "8758    22 2020-12-31 22:00:00                           -7804.471743\n",
       "8759    23 2020-12-31 23:00:00                           -7805.277663\n",
       "\n",
       "[8760 rows x 3 columns]"
      ]
     },
     "execution_count": 16,
     "metadata": {},
     "output_type": "execute_result"
    }
   ],
   "source": [
    "# Set the initial battery charge level to zero\n",
    "battery_charge_level = 0\n",
    "\n",
    "# Create an empty list to store the cumulative battery charge level\n",
    "cumulative_charge_level = []\n",
    "\n",
    "# Iterate over each row in the dataset\n",
    "for index, row in data.iterrows():\n",
    "    # Calculate the excess solar electricity generated over electricity used for the current hour\n",
    "    excess_solar_electricity = max(row['Solar electricity generation (kWh)'] - row['Electricity usage (kWh)'], 0)\n",
    "    \n",
    "    # Calculate the amount of electricity that needed to be bought from the electricity provider for the current hour\n",
    "    electricity_bought = max(row['Electricity usage (kWh)'] - row['Solar electricity generation (kWh)'], 0)\n",
    "    \n",
    "    # Calculate the battery charge level for the current hour\n",
    "    battery_charge_level = min(battery_charge_level + excess_solar_electricity - electricity_bought, 12.5)\n",
    "    \n",
    "    # Append the battery charge level to the cumulative list\n",
    "    cumulative_charge_level.append(battery_charge_level)\n",
    "\n",
    "# Add the cumulative battery charge level to the DataFrame\n",
    "data['Cumulative battery charge level (kWh)'] = cumulative_charge_level\n",
    "\n",
    "# Print the calculated values\n",
    "data[['Hour', 'Date/hour start', 'Cumulative battery charge level (kWh)']]\n"
   ]
  },
  {
   "cell_type": "markdown",
   "id": "41583f3b",
   "metadata": {},
   "source": [
    "##### Question 5\n",
    "(v)\tCalculate the amount of electricity for each hour in 2020 that would have been bought from the electricity provider (measured in kWh and subject to a minimum of zero), assuming a battery had already been installed.\t"
   ]
  },
  {
   "cell_type": "code",
   "execution_count": 17,
   "id": "cbcec124",
   "metadata": {},
   "outputs": [
    {
     "name": "stdout",
     "output_type": "stream",
     "text": [
      "      Hour     Date/hour start  Electricity bought (kWh)\n",
      "0        0 2020-01-01 00:00:00                  1.509849\n",
      "1        1 2020-01-01 01:00:00                  1.411859\n",
      "2        2 2020-01-01 02:00:00                  1.023898\n",
      "3        3 2020-01-01 03:00:00                  0.642000\n",
      "4        4 2020-01-01 04:00:00                  0.960000\n",
      "...    ...                 ...                       ...\n",
      "8755    19 2020-12-31 19:00:00                  4.383600\n",
      "8756    20 2020-12-31 20:00:00                  4.557600\n",
      "8757    21 2020-12-31 21:00:00                  2.022000\n",
      "8758    22 2020-12-31 22:00:00                  1.653000\n",
      "8759    23 2020-12-31 23:00:00                  0.805919\n",
      "\n",
      "[8760 rows x 3 columns]\n"
     ]
    }
   ],
   "source": [
    "# Set the initial battery charge level to zero\n",
    "battery_charge_level = 0\n",
    "\n",
    "# Create an empty list to store the electricity bought from the electricity provider\n",
    "electricity_bought = []\n",
    "\n",
    "# Iterate over each row in the dataset\n",
    "for index, row in data.iterrows():\n",
    "    # Calculate the excess solar electricity generated over electricity used for the current hour\n",
    "    excess_solar_electricity = max(row['Solar electricity generation (kWh)'] - row['Electricity usage (kWh)'], 0)\n",
    "    \n",
    "    # Calculate the amount of electricity that needed to be bought from the electricity provider for the current hour\n",
    "    electricity_bought_hour = max(row['Electricity usage (kWh)'] - row['Solar electricity generation (kWh)'] - battery_charge_level, 0)\n",
    "    \n",
    "    # Update the battery charge level for the current hour\n",
    "    battery_charge_level = max(battery_charge_level + excess_solar_electricity - row['Electricity usage (kWh)'], 0)\n",
    "    \n",
    "    # Append the electricity bought from the electricity provider to the list\n",
    "    electricity_bought.append(electricity_bought_hour)\n",
    "\n",
    "# Add the electricity bought from the electricity provider to the DataFrame\n",
    "data['Electricity bought (kWh)'] = electricity_bought\n",
    "\n",
    "# Print the calculated values\n",
    "print(data[['Hour', 'Date/hour start', 'Electricity bought (kWh)']])\n"
   ]
  },
  {
   "cell_type": "code",
   "execution_count": 18,
   "id": "838392dc",
   "metadata": {},
   "outputs": [
    {
     "name": "stdout",
     "output_type": "stream",
     "text": [
      "Total savings over 2020: $ 2562.826162448\n"
     ]
    }
   ],
   "source": [
    "# Set the electricity price on 1 January 2022\n",
    "electricity_price = 0.17  # $0.17 per kWh\n",
    "\n",
    "# Calculate the amount of electricity bought from the electricity provider for each hour\n",
    "data['Electricity bought (kWh)'] = data['Electricity usage (kWh)'] - data['Solar electricity generation (kWh)']\n",
    "data['Electricity bought (kWh)'] = data['Electricity bought (kWh)'].clip(lower=0)\n",
    "\n",
    "# Calculate the savings from installing a battery compared to using the existing solar panels alone\n",
    "data['Savings ($)'] = data['Electricity bought (kWh)'] * electricity_price\n",
    "\n",
    "# Calculate the total savings over 2020\n",
    "total_savings = data['Savings ($)'].sum()\n",
    "\n",
    "# Print the total savings\n",
    "print(\"Total savings over 2020: $\", total_savings)\n"
   ]
  },
  {
   "cell_type": "markdown",
   "id": "2ad441e2",
   "metadata": {},
   "source": [
    "##### Question 6\n",
    "\n",
    "(vii)\tTabulate the data appropriately and then produce a chart to illustrate, on a monthly basis for the calendar year and measured in kWh, the:\n",
    "\n",
    "\n",
    "•\tmonthly solar generation.\n",
    "\n",
    "•\tmonthly electricity usage.\n",
    "\n",
    "•\tmonthly electricity purchased from the electricity provider (no battery).\n",
    "\n",
    "•\tmonthly electricity purchased from the electricity provider (with battery).\n"
   ]
  },
  {
   "cell_type": "code",
   "execution_count": 22,
   "id": "2b17f227",
   "metadata": {},
   "outputs": [],
   "source": [
    "# Convert the 'Date/hour start' column to datetime format\n",
    "data['Date/hour start'] = pd.to_datetime(data['Date/hour start'])\n",
    "\n",
    "# Extract the month from the 'Date/hour start' column\n",
    "data['Month'] = data['Date/hour start'].dt.month\n",
    "# Calculate the monthly solar generation\n",
    "monthly_solar_generation = data.groupby('Month')['Solar electricity generation (kWh)'].sum()\n",
    "# Calculate the monthly electricity usage\n",
    "monthly_electricity_usage = data.groupby('Month')['Electricity usage (kWh)'].sum()\n",
    "# Calculate the monthly electricity purchased from the provider (without battery)\n",
    "monthly_electricity_from_provider_no_battery = data.groupby('Month')['Electricity usage (kWh)'].sum() - data.groupby('Month')['Solar electricity generation (kWh)'].sum()\n",
    "\n",
    "# Calculate the monthly electricity purchased from the provider (with battery)\n",
    "battery_charge = 0\n",
    "max_battery_charge = 12.5\n",
    "monthly_electricity_from_provider_with_battery = []\n",
    "\n",
    "# Iterate over each month\n",
    "for month in range(1, 13):\n",
    "    month_data = data[data['Month'] == month]\n",
    "    battery_charge = 0\n",
    "    electricity_from_provider_with_battery = 0\n",
    "    \n",
    "    # Iterate over each hour in the month\n",
    "    for index, row in month_data.iterrows():\n",
    "        excess_generation = row['Solar electricity generation (kWh)'] - row['Electricity usage (kWh)']\n",
    "        \n",
    "        # Check if there is excess generation to charge the battery\n",
    "        if excess_generation > 0:\n",
    "            # Calculate the new battery charge level\n",
    "            battery_charge = min(battery_charge + excess_generation, max_battery_charge)\n",
    "        \n",
    "        # Calculate the electricity from the provider\n",
    "        electricity_from_provider = max(row['Electricity usage (kWh)'] - battery_charge, 0)\n",
    "        electricity_from_provider_with_battery += electricity_from_provider\n",
    "    \n",
    "    monthly_electricity_from_provider_with_battery.append(electricity_from_provider_with_battery)"
   ]
  },
  {
   "cell_type": "code",
   "execution_count": 23,
   "id": "82903ca9",
   "metadata": {},
   "outputs": [
    {
     "name": "stdout",
     "output_type": "stream",
     "text": [
      "       Solar Generation (KWh)  Electricity Usage(KWh)  \\\n",
      "Month                                                   \n",
      "1                     110.325              675.819181   \n",
      "2                     175.416              533.812610   \n",
      "3                     245.766              611.187868   \n",
      "4                     270.009              486.819574   \n",
      "5                     287.664              420.124409   \n",
      "6                     342.585              420.546738   \n",
      "7                     337.965              447.505521   \n",
      "8                     330.111              500.277651   \n",
      "9                     285.921              588.616427   \n",
      "10                    247.119              526.418876   \n",
      "11                    177.273              564.788569   \n",
      "12                    104.523              717.292595   \n",
      "\n",
      "       Electricity from Provider (No Battery) (KWh)  \\\n",
      "Month                                                 \n",
      "1                                        565.494181   \n",
      "2                                        358.396610   \n",
      "3                                        365.421868   \n",
      "4                                        216.810574   \n",
      "5                                        132.460409   \n",
      "6                                         77.961738   \n",
      "7                                        109.540521   \n",
      "8                                        170.166651   \n",
      "9                                        302.695427   \n",
      "10                                       279.299876   \n",
      "11                                       387.515569   \n",
      "12                                       612.769595   \n",
      "\n",
      "       Electricity from provider (With Battery)(KWh)  \n",
      "Month                                                 \n",
      "1                                          32.699231  \n",
      "2                                           9.282808  \n",
      "3                                          61.266897  \n",
      "4                                           8.467421  \n",
      "5                                           6.344938  \n",
      "6                                           1.154957  \n",
      "7                                           1.894942  \n",
      "8                                           3.177886  \n",
      "9                                           9.027712  \n",
      "10                                          4.357963  \n",
      "11                                          7.238906  \n",
      "12                                          5.875940  \n"
     ]
    }
   ],
   "source": [
    "monthly_data = pd.DataFrame({\n",
    "    'Month': range(1,13),\n",
    "    'Solar Generation (KWh)': monthly_solar_generation.values,\n",
    "    'Electricity Usage(KWh)': monthly_electricity_usage.values,\n",
    "    'Electricity from Provider (No Battery) (KWh)': monthly_electricity_from_provider_no_battery.values,\n",
    "    'Electricity from provider (With Battery)(KWh)': monthly_electricity_from_provider_with_battery\n",
    "})\n",
    "\n",
    "monthly_data.set_index('Month', inplace=True)\n",
    "\n",
    "print(monthly_data)"
   ]
  },
  {
   "cell_type": "code",
   "execution_count": 24,
   "id": "c6134269",
   "metadata": {},
   "outputs": [
    {
     "data": {
      "image/png": "[encoded data removed]",
      "text/plain": [
       "<Figure size 1000x600 with 1 Axes>"
      ]
     },
     "metadata": {},
     "output_type": "display_data"
    }
   ],
   "source": [
    "# Plot the monthly data\n",
    "monthly_data.plot(kind='bar', figsize=(10, 6))\n",
    "plt.xlabel('Month')\n",
    "plt.ylabel('Electricity (kWh)')\n",
    "plt.title('Monthly Electricity Generation and Usage')\n",
    "plt.legend()\n",
    "plt.show()\n"
   ]
  },
  {
   "cell_type": "markdown",
   "id": "cb1fbda0",
   "metadata": {},
   "source": [
    "##### Question 7\n",
    "Project forward for 20 years from 1 January 2022 the annual savings from installing the battery for the two scenarios below."
   ]
  },
  {
   "cell_type": "code",
   "execution_count": 25,
   "id": "e13898cd",
   "metadata": {},
   "outputs": [
    {
     "name": "stdout",
     "output_type": "stream",
     "text": [
      "Scenario 1:\n",
      "Future Annual Savings: [1000, 1040.0, 1081.6000000000001, 1124.8640000000003, 1169.8585600000004, 1216.6529024000004, 1265.3190184960004, 1315.9317792358404, 1368.569050405274, 1423.311812421485, 1480.2442849183444, 1539.4540563150783, 1601.0322185676814, 1665.0735073103888, 1731.6764476028045, 1800.9435055069168, 1872.9812457271935, 1947.9004955562814, 2025.8165153785328, 2106.849175993674]\n",
      "Net Present Value: 17418.87317110706\n"
     ]
    }
   ],
   "source": [
    "def calculate_future_savings(initial_savings, annual_increase, num_years):\n",
    "    future_savings = []\n",
    "    savings = initial_savings\n",
    "    for year in range(num_years):\n",
    "        future_savings.append(savings)\n",
    "        savings *= (1 + annual_increase)\n",
    "    return future_savings\n",
    "\n",
    "def calculate_npv(future_savings, discount_rate):\n",
    "    npv = 0\n",
    "    for year, savings in enumerate(future_savings):\n",
    "        npv += savings / ((1 + discount_rate) ** (year + 1))\n",
    "    return npv\n",
    "# Scenario 1: Electricity prices increase by 4% p.a.\n",
    "initial_savings_scenario1 = 1000  # Initial annual savings\n",
    "annual_increase_scenario1 = 0.04  # Annual increase in electricity prices\n",
    "num_years = 20  # Number of years\n",
    "\n",
    "future_savings_scenario1 = calculate_future_savings(initial_savings_scenario1, annual_increase_scenario1, num_years)\n",
    "npv_scenario1 = calculate_npv(future_savings_scenario1, 0.05)  # Assuming a discount rate of 5%\n",
    "\n",
    "print(\"Scenario 1:\")\n",
    "print(\"Future Annual Savings:\", future_savings_scenario1)\n",
    "print(\"Net Present Value:\", npv_scenario1)"
   ]
  },
  {
   "cell_type": "code",
   "execution_count": 26,
   "id": "32806b77",
   "metadata": {},
   "outputs": [
    {
     "name": "stdout",
     "output_type": "stream",
     "text": [
      "Scenario 1:\n",
      "Future Annual Savings: [1000, 1040.0, 1081.6000000000001, 1124.8640000000003, 1169.8585600000004, 1216.6529024000004, 1265.3190184960004, 1315.9317792358404, 1368.569050405274, 1423.311812421485, 1480.2442849183444, 1539.4540563150783, 1601.0322185676814, 1665.0735073103888, 1731.6764476028045, 1800.9435055069168, 1872.9812457271935, 1947.9004955562814, 2025.8165153785328, 2106.849175993674]\n",
      "Net Present Value: 17418.87317110706\n"
     ]
    }
   ],
   "source": [
    "# Scenario 1: Electricity prices increase by 4% p.a.\n",
    "initial_savings_scenario1 = 1000  # Initial annual savings\n",
    "annual_increase_scenario1 = 0.04  # Annual increase in electricity prices\n",
    "num_years = 20  # Number of years\n",
    "\n",
    "future_savings_scenario1 = calculate_future_savings(initial_savings_scenario1, annual_increase_scenario1, num_years)\n",
    "npv_scenario1 = calculate_npv(future_savings_scenario1, 0.05)  # Assuming a discount rate of 5%\n",
    "\n",
    "print(\"Scenario 1:\")\n",
    "print(\"Future Annual Savings:\", future_savings_scenario1)\n",
    "print(\"Net Present Value:\", npv_scenario1)"
   ]
  },
  {
   "cell_type": "code",
   "execution_count": 27,
   "id": "02f4dff6",
   "metadata": {},
   "outputs": [
    {
     "name": "stdout",
     "output_type": "stream",
     "text": [
      "\n",
      "Scenario 2:\n",
      "Future Annual Savings: [1000.0, 1042.6, 1087.008, 1133.3004800000003, 1181.5571456000005, 1231.8610636800004, 1284.2988037734403, 1338.9605853724677, 1395.9404314133797, 1455.3363282009684, 1517.2503920413028, 1581.7890428637431, 1649.063185124712, 1719.1883962979764, 1792.2851232689025, 1868.4788869634265, 1947.9004955562814, 2030.6862666174234, 2116.9782585705666, 2206.924511853374]\n",
      "Net Present Value: 17818.723854150252\n"
     ]
    }
   ],
   "source": [
    "# Scenario 2: Electricity prices increase by 4% p.a. and rise by an additional 0.25% p.a.\n",
    "initial_savings_scenario2 = 1000  # Initial annual savings\n",
    "annual_increase_scenario2 = 0.04  # Annual increase in electricity prices\n",
    "additional_increase_scenario2 = 0.0025  # Additional annual increase\n",
    "num_years = 20  # Number of years\n",
    "\n",
    "future_savings_scenario2 = calculate_future_savings(initial_savings_scenario2, annual_increase_scenario2, num_years)\n",
    "for year in range(num_years):\n",
    "    future_savings_scenario2[year] *= (1 + additional_increase_scenario2 * year)\n",
    "npv_scenario2 = calculate_npv(future_savings_scenario2, 0.05)  # Assuming a discount rate of 5%\n",
    "\n",
    "print(\"\\nScenario 2:\")\n",
    "print(\"Future Annual Savings:\", future_savings_scenario2)\n",
    "print(\"Net Present Value:\", npv_scenario2)\n"
   ]
  },
  {
   "cell_type": "markdown",
   "id": "f37b56bc",
   "metadata": {},
   "source": [
    "##### Question 9\n",
    "(ix)\tCalculate the Internal Rate of Return (IRR) for the two scenarios in part (viii) by determining the discount rate that equates the net present value of the future annual savings to the initial cost of the battery for each scenario.\t\n",
    "\n",
    "[Note: All scenarios outlined above should be modelled separately in your model. The user should not need to change the parameters to see the results.]\n"
   ]
  },
  {
   "cell_type": "code",
   "execution_count": 28,
   "id": "2769b2d4",
   "metadata": {},
   "outputs": [
    {
     "name": "stdout",
     "output_type": "stream",
     "text": [
      "IRR for Scenario 1: -0.056923621263314406\n"
     ]
    }
   ],
   "source": [
    "# Scenario 1 parameters\n",
    "initial_cost = 7000\n",
    "annual_savings = 500\n",
    "\n",
    "# Calculate the IRR\n",
    "cash_flows = [-initial_cost] + [annual_savings] * 10\n",
    "irr_scenario1 = npf.irr(cash_flows)\n",
    "\n",
    "print(\"IRR for Scenario 1:\", irr_scenario1)\n"
   ]
  },
  {
   "cell_type": "code",
   "execution_count": 29,
   "id": "247b4808",
   "metadata": {},
   "outputs": [
    {
     "name": "stdout",
     "output_type": "stream",
     "text": [
      "IRR for Scenario 2  : 0.08144165646436607\n"
     ]
    }
   ],
   "source": [
    "# Scenario 2 parameters\n",
    "initial_cost = 2000\n",
    "annual_savings = 300\n",
    "\n",
    "# Calculate the IRR\n",
    "cash_flows = [-initial_cost] + [annual_savings] * 10\n",
    "irr_scenario2 = npf.irr(cash_flows)\n",
    "\n",
    "print(\"IRR for Scenario 2  :\", irr_scenario2)\n",
    " "
   ]
  },
  {
   "cell_type": "code",
   "execution_count": null,
   "id": "4fa98a74",
   "metadata": {},
   "outputs": [],
   "source": []
  },
  {
   "cell_type": "code",
   "execution_count": null,
   "id": "bcb2ad9f",
   "metadata": {},
   "outputs": [],
   "source": []
  }
 ],
 "metadata": {
  "kernelspec": {
   "display_name": "Python 3 (ipykernel)",
   "language": "python",
   "name": "python3"
  },
  "language_info": {
   "codemirror_mode": {
    "name": "ipython",
    "version": 3
   },
   "file_extension": ".py",
   "mimetype": "text/x-python",
   "name": "python",
   "nbconvert_exporter": "python",
   "pygments_lexer": "ipython3",
   "version": "3.11.3"
  }
 },
 "nbformat": 4,
 "nbformat_minor": 5
}

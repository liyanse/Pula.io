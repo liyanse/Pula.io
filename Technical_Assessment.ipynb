{
 "cells": [
  {
   "cell_type": "markdown",
   "metadata": {},
   "source": [
    "### PULA TECHNICAL ASSESSMENT\n",
    "The purpose of this exercise is threefold:\n",
    "  1. Analyze the provided data and construct a model.\n",
    "  2. Systematically document your approach and methodology, ensuring that it's comprehensible for both a fellow candidate and a senior analyst.\n",
    "  3. Critically evaluate the methods employed and the resulting outputs.\n"
   ]
  },
  {
   "cell_type": "markdown",
   "metadata": {},
   "source": [
    "#### Importing the necessary"
   ]
  },
  {
   "cell_type": "code",
   "execution_count": 1,
   "metadata": {},
   "outputs": [],
   "source": [
    "## Importing the necessary libraries for this assignment\n",
    "import pandas as pd\n",
    "import numpy as np\n",
    "import matplotlib.pyplot as plt\n",
    "import warnings \n",
    "import numpy_financial as npf\n",
    "import numpy as np\n",
    "from scipy.optimize import fsolve\n",
    "import seaborn as sns\n",
    "warnings.filterwarnings(\"ignore\")"
   ]
  },
  {
   "cell_type": "markdown",
   "metadata": {},
   "source": [
    "#### Data Preprocessing"
   ]
  },
  {
   "cell_type": "code",
   "execution_count": 2,
   "metadata": {},
   "outputs": [
    {
     "data": {
      "text/html": [
       "<div>\n",
       "<style scoped>\n",
       "    .dataframe tbody tr th:only-of-type {\n",
       "        vertical-align: middle;\n",
       "    }\n",
       "\n",
       "    .dataframe tbody tr th {\n",
       "        vertical-align: top;\n",
       "    }\n",
       "\n",
       "    .dataframe thead th {\n",
       "        text-align: right;\n",
       "    }\n",
       "</style>\n",
       "<table border=\"1\" class=\"dataframe\">\n",
       "  <thead>\n",
       "    <tr style=\"text-align: right;\">\n",
       "      <th></th>\n",
       "      <th>Hour</th>\n",
       "      <th>Date/hour start</th>\n",
       "      <th>Solar electricity generation (kWh)</th>\n",
       "      <th>Electricity usage (kWh)</th>\n",
       "    </tr>\n",
       "  </thead>\n",
       "  <tbody>\n",
       "    <tr>\n",
       "      <th>0</th>\n",
       "      <td>0</td>\n",
       "      <td>2020-01-01 00:00:00</td>\n",
       "      <td>0.0</td>\n",
       "      <td>1.509849</td>\n",
       "    </tr>\n",
       "    <tr>\n",
       "      <th>1</th>\n",
       "      <td>1</td>\n",
       "      <td>2020-01-01 01:00:00</td>\n",
       "      <td>0.0</td>\n",
       "      <td>1.411859</td>\n",
       "    </tr>\n",
       "    <tr>\n",
       "      <th>2</th>\n",
       "      <td>2</td>\n",
       "      <td>2020-01-01 02:00:00</td>\n",
       "      <td>0.0</td>\n",
       "      <td>1.023898</td>\n",
       "    </tr>\n",
       "    <tr>\n",
       "      <th>3</th>\n",
       "      <td>3</td>\n",
       "      <td>2020-01-01 03:00:00</td>\n",
       "      <td>0.0</td>\n",
       "      <td>0.642000</td>\n",
       "    </tr>\n",
       "    <tr>\n",
       "      <th>4</th>\n",
       "      <td>4</td>\n",
       "      <td>2020-01-01 04:00:00</td>\n",
       "      <td>0.0</td>\n",
       "      <td>0.960000</td>\n",
       "    </tr>\n",
       "  </tbody>\n",
       "</table>\n",
       "</div>"
      ],
      "text/plain": [
       "   Hour     Date/hour start  Solar electricity generation (kWh)  \\\n",
       "0     0 2020-01-01 00:00:00                                 0.0   \n",
       "1     1 2020-01-01 01:00:00                                 0.0   \n",
       "2     2 2020-01-01 02:00:00                                 0.0   \n",
       "3     3 2020-01-01 03:00:00                                 0.0   \n",
       "4     4 2020-01-01 04:00:00                                 0.0   \n",
       "\n",
       "   Electricity usage (kWh)  \n",
       "0                 1.509849  \n",
       "1                 1.411859  \n",
       "2                 1.023898  \n",
       "3                 0.642000  \n",
       "4                 0.960000  "
      ]
     },
     "execution_count": 2,
     "metadata": {},
     "output_type": "execute_result"
    }
   ],
   "source": [
    "##I renamed the data file  to dataset and noticed when I performed the pd.read_excel, the columns were pushed down 2 rows so I used the skiprows to get the exact columns for the dataset\n",
    "data = pd.read_excel(\"dataset.xlsx\",skiprows=2) \n",
    "data.head() ##the first 5 values of the dataset"
   ]
  },
  {
   "cell_type": "code",
   "execution_count": 3,
   "metadata": {},
   "outputs": [
    {
     "data": {
      "text/plain": [
       "Index(['Hour', 'Date/hour start', 'Solar electricity generation (kWh)',\n",
       "       'Electricity usage (kWh)'],\n",
       "      dtype='object')"
      ]
     },
     "execution_count": 3,
     "metadata": {},
     "output_type": "execute_result"
    }
   ],
   "source": [
    "##how many columns does the dataset have?\n",
    "data.columns"
   ]
  },
  {
   "cell_type": "code",
   "execution_count": 4,
   "metadata": {},
   "outputs": [
    {
     "name": "stdout",
     "output_type": "stream",
     "text": [
      "<class 'pandas.core.frame.DataFrame'>\n",
      "RangeIndex: 8760 entries, 0 to 8759\n",
      "Data columns (total 4 columns):\n",
      " #   Column                              Non-Null Count  Dtype         \n",
      "---  ------                              --------------  -----         \n",
      " 0   Hour                                8760 non-null   int64         \n",
      " 1   Date/hour start                     8760 non-null   datetime64[ns]\n",
      " 2   Solar electricity generation (kWh)  8760 non-null   float64       \n",
      " 3   Electricity usage (kWh)             8760 non-null   float64       \n",
      "dtypes: datetime64[ns](1), float64(2), int64(1)\n",
      "memory usage: 273.9 KB\n"
     ]
    }
   ],
   "source": [
    "## more information on the dataset\n",
    "data.info()"
   ]
  },
  {
   "cell_type": "code",
   "execution_count": 5,
   "metadata": {},
   "outputs": [
    {
     "data": {
      "text/html": [
       "<div>\n",
       "<style scoped>\n",
       "    .dataframe tbody tr th:only-of-type {\n",
       "        vertical-align: middle;\n",
       "    }\n",
       "\n",
       "    .dataframe tbody tr th {\n",
       "        vertical-align: top;\n",
       "    }\n",
       "\n",
       "    .dataframe thead th {\n",
       "        text-align: right;\n",
       "    }\n",
       "</style>\n",
       "<table border=\"1\" class=\"dataframe\">\n",
       "  <thead>\n",
       "    <tr style=\"text-align: right;\">\n",
       "      <th></th>\n",
       "      <th>Hour</th>\n",
       "      <th>Date/hour start</th>\n",
       "      <th>Solar electricity generation (kWh)</th>\n",
       "      <th>Electricity usage (kWh)</th>\n",
       "    </tr>\n",
       "  </thead>\n",
       "  <tbody>\n",
       "    <tr>\n",
       "      <th>count</th>\n",
       "      <td>8760.000000</td>\n",
       "      <td>8760</td>\n",
       "      <td>8760.000000</td>\n",
       "      <td>8760.000000</td>\n",
       "    </tr>\n",
       "    <tr>\n",
       "      <th>mean</th>\n",
       "      <td>11.500000</td>\n",
       "      <td>2020-07-02 07:37:13.972602624</td>\n",
       "      <td>1.116750</td>\n",
       "      <td>7.312704</td>\n",
       "    </tr>\n",
       "    <tr>\n",
       "      <th>min</th>\n",
       "      <td>0.000000</td>\n",
       "      <td>2020-01-01 00:00:00</td>\n",
       "      <td>0.000000</td>\n",
       "      <td>-12.624000</td>\n",
       "    </tr>\n",
       "    <tr>\n",
       "      <th>25%</th>\n",
       "      <td>5.750000</td>\n",
       "      <td>2020-04-02 05:45:00</td>\n",
       "      <td>0.000000</td>\n",
       "      <td>0.300000</td>\n",
       "    </tr>\n",
       "    <tr>\n",
       "      <th>50%</th>\n",
       "      <td>11.500000</td>\n",
       "      <td>2020-07-02 11:30:00</td>\n",
       "      <td>0.024000</td>\n",
       "      <td>0.621000</td>\n",
       "    </tr>\n",
       "    <tr>\n",
       "      <th>75%</th>\n",
       "      <td>17.250000</td>\n",
       "      <td>2020-10-01 17:15:00</td>\n",
       "      <td>1.272750</td>\n",
       "      <td>1.686000</td>\n",
       "    </tr>\n",
       "    <tr>\n",
       "      <th>max</th>\n",
       "      <td>23.000000</td>\n",
       "      <td>2020-12-31 23:00:00</td>\n",
       "      <td>13.050000</td>\n",
       "      <td>46000.000000</td>\n",
       "    </tr>\n",
       "    <tr>\n",
       "      <th>std</th>\n",
       "      <td>6.922582</td>\n",
       "      <td>NaN</td>\n",
       "      <td>2.026098</td>\n",
       "      <td>491.479806</td>\n",
       "    </tr>\n",
       "  </tbody>\n",
       "</table>\n",
       "</div>"
      ],
      "text/plain": [
       "              Hour                Date/hour start  \\\n",
       "count  8760.000000                           8760   \n",
       "mean     11.500000  2020-07-02 07:37:13.972602624   \n",
       "min       0.000000            2020-01-01 00:00:00   \n",
       "25%       5.750000            2020-04-02 05:45:00   \n",
       "50%      11.500000            2020-07-02 11:30:00   \n",
       "75%      17.250000            2020-10-01 17:15:00   \n",
       "max      23.000000            2020-12-31 23:00:00   \n",
       "std       6.922582                            NaN   \n",
       "\n",
       "       Solar electricity generation (kWh)  Electricity usage (kWh)  \n",
       "count                         8760.000000              8760.000000  \n",
       "mean                             1.116750                 7.312704  \n",
       "min                              0.000000               -12.624000  \n",
       "25%                              0.000000                 0.300000  \n",
       "50%                              0.024000                 0.621000  \n",
       "75%                              1.272750                 1.686000  \n",
       "max                             13.050000             46000.000000  \n",
       "std                              2.026098               491.479806  "
      ]
     },
     "execution_count": 5,
     "metadata": {},
     "output_type": "execute_result"
    }
   ],
   "source": [
    "## statistical analysis of the dataset\n",
    "data.describe()"
   ]
  },
  {
   "cell_type": "code",
   "execution_count": 6,
   "metadata": {},
   "outputs": [
    {
     "data": {
      "text/plain": [
       "Hour                                  0\n",
       "Date/hour start                       0\n",
       "Solar electricity generation (kWh)    0\n",
       "Electricity usage (kWh)               0\n",
       "dtype: int64"
      ]
     },
     "execution_count": 6,
     "metadata": {},
     "output_type": "execute_result"
    }
   ],
   "source": [
    "## confirm there are no null values in the dataset\n",
    "data.isnull().sum()"
   ]
  },
  {
   "cell_type": "markdown",
   "metadata": {},
   "source": [
    "#### The dataset Information\n",
    "The data includes for columns each with 8760 rows and no null values;\n",
    "1. Hour an integer datatype the hour of the day when the energy was either generated or consumed\n",
    "2. Date/hour start datetime datatype  containing the date and time in 2020\n",
    "3. Solar electricity generation (kWh) float datatype containing the amount of solar energy generated per hour in 2020\n",
    "4. Electricity usage (kWh) float datatype containing the amount of energy consumed per hour in 2020"
   ]
  },
  {
   "cell_type": "markdown",
   "metadata": {},
   "source": [
    "### Question 1;\n",
    "(i)\tCarry out checks on the data provided to confirm that the data is complete and fit for use. This should include:\n",
    "\n",
    "•\tcreating a graph showing the average solar electricity generation and average electricity usage for each hour in a day, i.e. the average over all amounts for 1 am, and each subsequent hour within a 24-hour period.\n",
    "\n",
    "•\tinvestigating any significant outliers.\n",
    "\n",
    "•\tmaking any corrections that are needed.\n"
   ]
  },
  {
   "cell_type": "code",
   "execution_count": 7,
   "metadata": {},
   "outputs": [
    {
     "data": {
      "image/png": "[encoded data removed]",
      "text/plain": [
       "<Figure size 1000x600 with 1 Axes>"
      ]
     },
     "metadata": {},
     "output_type": "display_data"
    }
   ],
   "source": [
    "# Create a new column for the hour of the day that fills the \"HOUR\" column with the respective hour from the \"Date/hour start\" column\n",
    "data['Hour'] = data['Date/hour start'].dt.hour\n",
    "\n",
    "# Calculate average solar electricity generation and electricity usage for each hour\n",
    "hourly_avg = data.groupby('Hour').mean()\n",
    "\n",
    "# Plot the average solar electricity generation and electricity usage for each hour\n",
    "plt.figure(figsize=(10, 6))\n",
    "sns.lineplot(data=hourly_avg[['Solar electricity generation (kWh)', 'Electricity usage (kWh)']])\n",
    "plt.xlabel('Hour of the day')\n",
    "plt.ylabel('Average electricity (kWh)')\n",
    "plt.title('Average Solar Electricity Generation and Electricity Usage by Hour')\n",
    "plt.show()"
   ]
  },
  {
   "cell_type": "code",
   "execution_count": 8,
   "metadata": {},
   "outputs": [
    {
     "data": {
      "text/html": [
       "<div>\n",
       "<style scoped>\n",
       "    .dataframe tbody tr th:only-of-type {\n",
       "        vertical-align: middle;\n",
       "    }\n",
       "\n",
       "    .dataframe tbody tr th {\n",
       "        vertical-align: top;\n",
       "    }\n",
       "\n",
       "    .dataframe thead th {\n",
       "        text-align: right;\n",
       "    }\n",
       "</style>\n",
       "<table border=\"1\" class=\"dataframe\">\n",
       "  <thead>\n",
       "    <tr style=\"text-align: right;\">\n",
       "      <th></th>\n",
       "      <th>Hour</th>\n",
       "      <th>Date/hour start</th>\n",
       "      <th>Solar electricity generation (kWh)</th>\n",
       "      <th>Electricity usage (kWh)</th>\n",
       "      <th>Solar Generation Z-Score</th>\n",
       "      <th>Electricity Usage Z-Score</th>\n",
       "    </tr>\n",
       "  </thead>\n",
       "  <tbody>\n",
       "    <tr>\n",
       "      <th>276</th>\n",
       "      <td>12</td>\n",
       "      <td>2020-01-12 12:00:00</td>\n",
       "      <td>5.214</td>\n",
       "      <td>46000.000</td>\n",
       "      <td>2.022237</td>\n",
       "      <td>93.580014</td>\n",
       "    </tr>\n",
       "    <tr>\n",
       "      <th>1331</th>\n",
       "      <td>11</td>\n",
       "      <td>2020-02-25 11:00:00</td>\n",
       "      <td>7.431</td>\n",
       "      <td>0.048</td>\n",
       "      <td>3.116458</td>\n",
       "      <td>-0.014781</td>\n",
       "    </tr>\n",
       "    <tr>\n",
       "      <th>1739</th>\n",
       "      <td>11</td>\n",
       "      <td>2020-03-14 11:00:00</td>\n",
       "      <td>7.926</td>\n",
       "      <td>0.000</td>\n",
       "      <td>3.360770</td>\n",
       "      <td>-0.014879</td>\n",
       "    </tr>\n",
       "    <tr>\n",
       "      <th>1740</th>\n",
       "      <td>12</td>\n",
       "      <td>2020-03-14 12:00:00</td>\n",
       "      <td>7.512</td>\n",
       "      <td>0.000</td>\n",
       "      <td>3.156436</td>\n",
       "      <td>-0.014879</td>\n",
       "    </tr>\n",
       "    <tr>\n",
       "      <th>1786</th>\n",
       "      <td>10</td>\n",
       "      <td>2020-03-16 10:00:00</td>\n",
       "      <td>7.665</td>\n",
       "      <td>0.000</td>\n",
       "      <td>3.231951</td>\n",
       "      <td>-0.014879</td>\n",
       "    </tr>\n",
       "    <tr>\n",
       "      <th>...</th>\n",
       "      <td>...</td>\n",
       "      <td>...</td>\n",
       "      <td>...</td>\n",
       "      <td>...</td>\n",
       "      <td>...</td>\n",
       "      <td>...</td>\n",
       "    </tr>\n",
       "    <tr>\n",
       "      <th>6540</th>\n",
       "      <td>12</td>\n",
       "      <td>2020-09-30 12:00:00</td>\n",
       "      <td>8.175</td>\n",
       "      <td>2.889</td>\n",
       "      <td>3.483666</td>\n",
       "      <td>-0.009001</td>\n",
       "    </tr>\n",
       "    <tr>\n",
       "      <th>6586</th>\n",
       "      <td>10</td>\n",
       "      <td>2020-10-02 10:00:00</td>\n",
       "      <td>7.758</td>\n",
       "      <td>0.063</td>\n",
       "      <td>3.277852</td>\n",
       "      <td>-0.014751</td>\n",
       "    </tr>\n",
       "    <tr>\n",
       "      <th>6611</th>\n",
       "      <td>11</td>\n",
       "      <td>2020-10-03 11:00:00</td>\n",
       "      <td>7.335</td>\n",
       "      <td>0.297</td>\n",
       "      <td>3.069076</td>\n",
       "      <td>-0.014275</td>\n",
       "    </tr>\n",
       "    <tr>\n",
       "      <th>6659</th>\n",
       "      <td>11</td>\n",
       "      <td>2020-10-05 11:00:00</td>\n",
       "      <td>7.467</td>\n",
       "      <td>0.021</td>\n",
       "      <td>3.134226</td>\n",
       "      <td>-0.014836</td>\n",
       "    </tr>\n",
       "    <tr>\n",
       "      <th>6684</th>\n",
       "      <td>12</td>\n",
       "      <td>2020-10-06 12:00:00</td>\n",
       "      <td>7.782</td>\n",
       "      <td>0.000</td>\n",
       "      <td>3.289697</td>\n",
       "      <td>-0.014879</td>\n",
       "    </tr>\n",
       "  </tbody>\n",
       "</table>\n",
       "<p>288 rows × 6 columns</p>\n",
       "</div>"
      ],
      "text/plain": [
       "      Hour     Date/hour start  Solar electricity generation (kWh)  \\\n",
       "276     12 2020-01-12 12:00:00                               5.214   \n",
       "1331    11 2020-02-25 11:00:00                               7.431   \n",
       "1739    11 2020-03-14 11:00:00                               7.926   \n",
       "1740    12 2020-03-14 12:00:00                               7.512   \n",
       "1786    10 2020-03-16 10:00:00                               7.665   \n",
       "...    ...                 ...                                 ...   \n",
       "6540    12 2020-09-30 12:00:00                               8.175   \n",
       "6586    10 2020-10-02 10:00:00                               7.758   \n",
       "6611    11 2020-10-03 11:00:00                               7.335   \n",
       "6659    11 2020-10-05 11:00:00                               7.467   \n",
       "6684    12 2020-10-06 12:00:00                               7.782   \n",
       "\n",
       "      Electricity usage (kWh)  Solar Generation Z-Score  \\\n",
       "276                 46000.000                  2.022237   \n",
       "1331                    0.048                  3.116458   \n",
       "1739                    0.000                  3.360770   \n",
       "1740                    0.000                  3.156436   \n",
       "1786                    0.000                  3.231951   \n",
       "...                       ...                       ...   \n",
       "6540                    2.889                  3.483666   \n",
       "6586                    0.063                  3.277852   \n",
       "6611                    0.297                  3.069076   \n",
       "6659                    0.021                  3.134226   \n",
       "6684                    0.000                  3.289697   \n",
       "\n",
       "      Electricity Usage Z-Score  \n",
       "276                   93.580014  \n",
       "1331                  -0.014781  \n",
       "1739                  -0.014879  \n",
       "1740                  -0.014879  \n",
       "1786                  -0.014879  \n",
       "...                         ...  \n",
       "6540                  -0.009001  \n",
       "6586                  -0.014751  \n",
       "6611                  -0.014275  \n",
       "6659                  -0.014836  \n",
       "6684                  -0.014879  \n",
       "\n",
       "[288 rows x 6 columns]"
      ]
     },
     "execution_count": 8,
     "metadata": {},
     "output_type": "execute_result"
    }
   ],
   "source": [
    "# Calculate the z-scores for solar electricity generation and electricity usage\n",
    "data['Solar Generation Z-Score'] = (data['Solar electricity generation (kWh)'] - data['Solar electricity generation (kWh)'].mean()) / data['Solar electricity generation (kWh)'].std()\n",
    "data['Electricity Usage Z-Score'] = (data['Electricity usage (kWh)'] - data['Electricity usage (kWh)'].mean()) / data['Electricity usage (kWh)'].std()\n",
    "\n",
    "# Identify outliers based on a threshold (e.g., z-score > 3 or < -3)\n",
    "outliers = data[(data['Solar Generation Z-Score'] > 3) | (data['Solar Generation Z-Score'] < -3) | (data['Electricity Usage Z-Score'] > 3) | (data['Electricity Usage Z-Score'] < -3)]\n",
    "\n",
    "# Print the outliers\n",
    "outliers\n"
   ]
  },
  {
   "cell_type": "markdown",
   "metadata": {},
   "source": [
    "## Outliers\n",
    "Z-score is a standard score that is used to measure the deviation of an individual data point from the mean of distribution. It helps to easily identify outliers.\n",
    "\n",
    "By calculating the z-score for each data point, we can identify outliers that fall outside a certain threshold, typically set at ±3 standard deviations. \n",
    "\n",
    "Data points with z-scores greater than 3 or less than -3 are considered significant outliers.\n",
    "\n",
    "We notice a significant outlier at 12pm on 12th of January 2020 where over 46000KWh of electricity was consumed."
   ]
  },
  {
   "cell_type": "code",
   "execution_count": 9,
   "metadata": {},
   "outputs": [
    {
     "data": {
      "image/png": "[encoded data removed]",
      "text/plain": [
       "<Figure size 1000x600 with 1 Axes>"
      ]
     },
     "metadata": {},
     "output_type": "display_data"
    }
   ],
   "source": [
    "# Investigate outliers using box plots\n",
    "plt.figure(figsize=(10, 6))\n",
    "sns.boxplot(data=data[['Solar electricity generation (kWh)', 'Electricity usage (kWh)']])\n",
    "plt.xlabel('Variable')\n",
    "plt.ylabel('Electricity (kWh)')\n",
    "plt.title('Outliers in Solar Electricity Generation and Electricity Usage')\n",
    "plt.show()"
   ]
  },
  {
   "cell_type": "markdown",
   "metadata": {},
   "source": [
    "#### Winsorization to handle the outliers\n",
    "Winsorizarion is a technique used to limit the impact of outliers by replacing the extreme values(the outliers) with a value closer to the rest of the data.\n",
    "\n",
    "It includes setting a percentile/ threshold and choosing the values below or above the set threshold\n",
    "\n",
    "In our dataset, we set the lower percentile at 0.01 and the highest at 0.99. This effectively limits the impact of the outliers to the dataset"
   ]
  },
  {
   "cell_type": "code",
   "execution_count": 10,
   "metadata": {},
   "outputs": [],
   "source": [
    "### Winsorization to limit outliers to a certain percentile\n",
    "data['Solar electricity generation (kWh)'] = data['Solar electricity generation (kWh)'].clip(lower=data['Solar electricity generation (kWh)'].quantile(0.01), upper=data['Solar electricity generation (kWh)'].quantile(0.99))\n",
    "data['Electricity usage (kWh)'] = data['Electricity usage (kWh)'].clip(lower=data['Electricity usage (kWh)'].quantile(0.01), upper=data['Electricity usage (kWh)'].quantile(0.99))\n"
   ]
  },
  {
   "cell_type": "code",
   "execution_count": 11,
   "metadata": {},
   "outputs": [
    {
     "data": {
      "image/png": "[encoded data removed]",
      "text/plain": [
       "<Figure size 1000x600 with 1 Axes>"
      ]
     },
     "metadata": {},
     "output_type": "display_data"
    }
   ],
   "source": [
    "# Re-calculate average after outlier correction\n",
    "hourly_avg_corrected = data.groupby('Hour').mean()\n",
    "\n",
    "# Plot the corrected average solar electricity generation and electricity usage for each hour\n",
    "plt.figure(figsize=(10, 6))\n",
    "sns.lineplot(data=hourly_avg_corrected[['Solar electricity generation (kWh)', 'Electricity usage (kWh)']])\n",
    "plt.xlabel('Hour of the day')\n",
    "plt.ylabel('Average electricity (kWh)')\n",
    "plt.title('Corrected Average Solar Electricity Generation and Electricity Usage by Hour')\n",
    "plt.show()\n"
   ]
  },
  {
   "cell_type": "markdown",
   "metadata": {},
   "source": [
    "### Question 2\n",
    "(ii)\tCalculate, for each hour in 2020, the amount of electricity that needed to be bought from the electricity provider (measured in kWh and subject to a minimum of zero).\t"
   ]
  },
  {
   "cell_type": "markdown",
   "metadata": {},
   "source": [
    "This code calculates the amount of electricity that needed to be bought from the electricity provider by subtracting the solar electricity generation from the electricity usage for each hour. The resulting values are then clipped to a minimum of zero to ensure that negative values (indicating excess solar electricity generation) are set to zero."
   ]
  },
  {
   "cell_type": "code",
   "execution_count": 12,
   "metadata": {},
   "outputs": [
    {
     "data": {
      "text/html": [
       "<div>\n",
       "<style scoped>\n",
       "    .dataframe tbody tr th:only-of-type {\n",
       "        vertical-align: middle;\n",
       "    }\n",
       "\n",
       "    .dataframe tbody tr th {\n",
       "        vertical-align: top;\n",
       "    }\n",
       "\n",
       "    .dataframe thead th {\n",
       "        text-align: right;\n",
       "    }\n",
       "</style>\n",
       "<table border=\"1\" class=\"dataframe\">\n",
       "  <thead>\n",
       "    <tr style=\"text-align: right;\">\n",
       "      <th></th>\n",
       "      <th>Date/hour start</th>\n",
       "      <th>Hour</th>\n",
       "      <th>Electricity bought (kWh)</th>\n",
       "    </tr>\n",
       "  </thead>\n",
       "  <tbody>\n",
       "    <tr>\n",
       "      <th>0</th>\n",
       "      <td>2020-01-01 00:00:00</td>\n",
       "      <td>0</td>\n",
       "      <td>1.509849</td>\n",
       "    </tr>\n",
       "    <tr>\n",
       "      <th>1</th>\n",
       "      <td>2020-01-01 01:00:00</td>\n",
       "      <td>1</td>\n",
       "      <td>1.411859</td>\n",
       "    </tr>\n",
       "    <tr>\n",
       "      <th>2</th>\n",
       "      <td>2020-01-01 02:00:00</td>\n",
       "      <td>2</td>\n",
       "      <td>1.023898</td>\n",
       "    </tr>\n",
       "    <tr>\n",
       "      <th>3</th>\n",
       "      <td>2020-01-01 03:00:00</td>\n",
       "      <td>3</td>\n",
       "      <td>0.642000</td>\n",
       "    </tr>\n",
       "    <tr>\n",
       "      <th>4</th>\n",
       "      <td>2020-01-01 04:00:00</td>\n",
       "      <td>4</td>\n",
       "      <td>0.960000</td>\n",
       "    </tr>\n",
       "    <tr>\n",
       "      <th>...</th>\n",
       "      <td>...</td>\n",
       "      <td>...</td>\n",
       "      <td>...</td>\n",
       "    </tr>\n",
       "    <tr>\n",
       "      <th>8755</th>\n",
       "      <td>2020-12-31 19:00:00</td>\n",
       "      <td>19</td>\n",
       "      <td>4.383600</td>\n",
       "    </tr>\n",
       "    <tr>\n",
       "      <th>8756</th>\n",
       "      <td>2020-12-31 20:00:00</td>\n",
       "      <td>20</td>\n",
       "      <td>4.557600</td>\n",
       "    </tr>\n",
       "    <tr>\n",
       "      <th>8757</th>\n",
       "      <td>2020-12-31 21:00:00</td>\n",
       "      <td>21</td>\n",
       "      <td>2.022000</td>\n",
       "    </tr>\n",
       "    <tr>\n",
       "      <th>8758</th>\n",
       "      <td>2020-12-31 22:00:00</td>\n",
       "      <td>22</td>\n",
       "      <td>1.653000</td>\n",
       "    </tr>\n",
       "    <tr>\n",
       "      <th>8759</th>\n",
       "      <td>2020-12-31 23:00:00</td>\n",
       "      <td>23</td>\n",
       "      <td>0.805919</td>\n",
       "    </tr>\n",
       "  </tbody>\n",
       "</table>\n",
       "<p>8760 rows × 3 columns</p>\n",
       "</div>"
      ],
      "text/plain": [
       "         Date/hour start  Hour  Electricity bought (kWh)\n",
       "0    2020-01-01 00:00:00     0                  1.509849\n",
       "1    2020-01-01 01:00:00     1                  1.411859\n",
       "2    2020-01-01 02:00:00     2                  1.023898\n",
       "3    2020-01-01 03:00:00     3                  0.642000\n",
       "4    2020-01-01 04:00:00     4                  0.960000\n",
       "...                  ...   ...                       ...\n",
       "8755 2020-12-31 19:00:00    19                  4.383600\n",
       "8756 2020-12-31 20:00:00    20                  4.557600\n",
       "8757 2020-12-31 21:00:00    21                  2.022000\n",
       "8758 2020-12-31 22:00:00    22                  1.653000\n",
       "8759 2020-12-31 23:00:00    23                  0.805919\n",
       "\n",
       "[8760 rows x 3 columns]"
      ]
     },
     "execution_count": 12,
     "metadata": {},
     "output_type": "execute_result"
    }
   ],
   "source": [
    "# Calculate the amount of electricity that needed to be bought from the electricity provider\n",
    "data['Electricity bought (kWh)'] = data['Electricity usage (kWh)'] - data['Solar electricity generation (kWh)']\n",
    "data['Electricity bought (kWh)'] = data['Electricity bought (kWh)'].clip(lower=0)\n",
    "\n",
    "# Print the calculated values dataframe\n",
    "data[['Date/hour start', 'Hour', 'Electricity bought (kWh)']]"
   ]
  },
  {
   "cell_type": "markdown",
   "metadata": {},
   "source": [
    "### Question 3\n",
    "\n",
    "(iii)\tCalculate, for each hour in 2020, the excess solar electricity generated over electricity used (measured in kWh and subject to a minimum of zero)."
   ]
  },
  {
   "cell_type": "markdown",
   "metadata": {},
   "source": [
    "This code calculates the excess solar electricity generated over electricity used by subtracting the electricity usage from the solar electricity generation for each hour. The resulting values are then clipped to a minimum of zero to ensure that negative values (indicating insufficient solar electricity generation) are set to zero."
   ]
  },
  {
   "cell_type": "code",
   "execution_count": 13,
   "metadata": {},
   "outputs": [
    {
     "data": {
      "text/html": [
       "<div>\n",
       "<style scoped>\n",
       "    .dataframe tbody tr th:only-of-type {\n",
       "        vertical-align: middle;\n",
       "    }\n",
       "\n",
       "    .dataframe tbody tr th {\n",
       "        vertical-align: top;\n",
       "    }\n",
       "\n",
       "    .dataframe thead th {\n",
       "        text-align: right;\n",
       "    }\n",
       "</style>\n",
       "<table border=\"1\" class=\"dataframe\">\n",
       "  <thead>\n",
       "    <tr style=\"text-align: right;\">\n",
       "      <th></th>\n",
       "      <th>Hour</th>\n",
       "      <th>Excess solar electricity (kWh)</th>\n",
       "    </tr>\n",
       "  </thead>\n",
       "  <tbody>\n",
       "    <tr>\n",
       "      <th>9</th>\n",
       "      <td>9</td>\n",
       "      <td>0.240</td>\n",
       "    </tr>\n",
       "    <tr>\n",
       "      <th>12</th>\n",
       "      <td>12</td>\n",
       "      <td>0.255</td>\n",
       "    </tr>\n",
       "    <tr>\n",
       "      <th>17</th>\n",
       "      <td>17</td>\n",
       "      <td>0.006</td>\n",
       "    </tr>\n",
       "    <tr>\n",
       "      <th>58</th>\n",
       "      <td>10</td>\n",
       "      <td>0.189</td>\n",
       "    </tr>\n",
       "    <tr>\n",
       "      <th>59</th>\n",
       "      <td>11</td>\n",
       "      <td>0.267</td>\n",
       "    </tr>\n",
       "    <tr>\n",
       "      <th>...</th>\n",
       "      <td>...</td>\n",
       "      <td>...</td>\n",
       "    </tr>\n",
       "    <tr>\n",
       "      <th>8723</th>\n",
       "      <td>11</td>\n",
       "      <td>0.123</td>\n",
       "    </tr>\n",
       "    <tr>\n",
       "      <th>8724</th>\n",
       "      <td>12</td>\n",
       "      <td>2.649</td>\n",
       "    </tr>\n",
       "    <tr>\n",
       "      <th>8725</th>\n",
       "      <td>13</td>\n",
       "      <td>0.129</td>\n",
       "    </tr>\n",
       "    <tr>\n",
       "      <th>8749</th>\n",
       "      <td>13</td>\n",
       "      <td>2.064</td>\n",
       "    </tr>\n",
       "    <tr>\n",
       "      <th>8750</th>\n",
       "      <td>14</td>\n",
       "      <td>0.447</td>\n",
       "    </tr>\n",
       "  </tbody>\n",
       "</table>\n",
       "<p>2622 rows × 2 columns</p>\n",
       "</div>"
      ],
      "text/plain": [
       "      Hour  Excess solar electricity (kWh)\n",
       "9        9                           0.240\n",
       "12      12                           0.255\n",
       "17      17                           0.006\n",
       "58      10                           0.189\n",
       "59      11                           0.267\n",
       "...    ...                             ...\n",
       "8723    11                           0.123\n",
       "8724    12                           2.649\n",
       "8725    13                           0.129\n",
       "8749    13                           2.064\n",
       "8750    14                           0.447\n",
       "\n",
       "[2622 rows x 2 columns]"
      ]
     },
     "execution_count": 13,
     "metadata": {},
     "output_type": "execute_result"
    }
   ],
   "source": [
    "# Calculate the excess solar electricity generated over electricity used\n",
    "data['Excess solar electricity (kWh)'] = data['Solar electricity generation (kWh)'] - data['Electricity usage (kWh)']\n",
    "# Print the calculated values higher than zero\n",
    "data[data['Excess solar electricity (kWh)'] > 0][['Hour', 'Excess solar electricity (kWh)']]"
   ]
  },
  {
   "cell_type": "markdown",
   "metadata": {},
   "source": [
    "### Question 4\n",
    "\n",
    "(iv)\tModel the cumulative battery charge level (measured in kWh) for each hour over 2020, assuming a battery had already been installed.\n",
    "\n",
    "The battery charge level should:\n",
    "\n",
    "•\tbegin at zero at 1 January 2020 00:00.\n",
    "\n",
    "•\tallow for the increase or decrease in charge level depending on the hourly results of parts (ii) and (iii).\n",
    "\n",
    "•\tbe subject to the cap on the maximum battery charge level.\n"
   ]
  },
  {
   "cell_type": "markdown",
   "metadata": {},
   "source": [
    "This code models the cumulative battery charge level for each hour over 2020. It initializes the battery charge level to zero and then iterates over each row in the dataset. For each hour, it calculates the excess solar electricity generated over electricity used and the amount of electricity bought from the electricity provider. It then updates the battery charge level by adding the excess solar electricity and subtracting the electricity bought, subject to the maximum battery charge level of 12.5 kWh. The resulting cumulative battery charge levels are stored in the cumulative_charge_level list."
   ]
  },
  {
   "cell_type": "code",
   "execution_count": 14,
   "metadata": {},
   "outputs": [
    {
     "data": {
      "text/html": [
       "<div>\n",
       "<style scoped>\n",
       "    .dataframe tbody tr th:only-of-type {\n",
       "        vertical-align: middle;\n",
       "    }\n",
       "\n",
       "    .dataframe tbody tr th {\n",
       "        vertical-align: top;\n",
       "    }\n",
       "\n",
       "    .dataframe thead th {\n",
       "        text-align: right;\n",
       "    }\n",
       "</style>\n",
       "<table border=\"1\" class=\"dataframe\">\n",
       "  <thead>\n",
       "    <tr style=\"text-align: right;\">\n",
       "      <th></th>\n",
       "      <th>Date/hour start</th>\n",
       "      <th>Hour</th>\n",
       "      <th>Cumulative battery charge level (kWh)</th>\n",
       "    </tr>\n",
       "  </thead>\n",
       "  <tbody>\n",
       "    <tr>\n",
       "      <th>0</th>\n",
       "      <td>2020-01-01 00:00:00</td>\n",
       "      <td>0</td>\n",
       "      <td>-1.509849</td>\n",
       "    </tr>\n",
       "    <tr>\n",
       "      <th>1</th>\n",
       "      <td>2020-01-01 01:00:00</td>\n",
       "      <td>1</td>\n",
       "      <td>-2.921708</td>\n",
       "    </tr>\n",
       "    <tr>\n",
       "      <th>2</th>\n",
       "      <td>2020-01-01 02:00:00</td>\n",
       "      <td>2</td>\n",
       "      <td>-3.945605</td>\n",
       "    </tr>\n",
       "    <tr>\n",
       "      <th>3</th>\n",
       "      <td>2020-01-01 03:00:00</td>\n",
       "      <td>3</td>\n",
       "      <td>-4.587605</td>\n",
       "    </tr>\n",
       "    <tr>\n",
       "      <th>4</th>\n",
       "      <td>2020-01-01 04:00:00</td>\n",
       "      <td>4</td>\n",
       "      <td>-5.547605</td>\n",
       "    </tr>\n",
       "    <tr>\n",
       "      <th>...</th>\n",
       "      <td>...</td>\n",
       "      <td>...</td>\n",
       "      <td>...</td>\n",
       "    </tr>\n",
       "    <tr>\n",
       "      <th>8755</th>\n",
       "      <td>2020-12-31 19:00:00</td>\n",
       "      <td>19</td>\n",
       "      <td>-7796.239143</td>\n",
       "    </tr>\n",
       "    <tr>\n",
       "      <th>8756</th>\n",
       "      <td>2020-12-31 20:00:00</td>\n",
       "      <td>20</td>\n",
       "      <td>-7800.796743</td>\n",
       "    </tr>\n",
       "    <tr>\n",
       "      <th>8757</th>\n",
       "      <td>2020-12-31 21:00:00</td>\n",
       "      <td>21</td>\n",
       "      <td>-7802.818743</td>\n",
       "    </tr>\n",
       "    <tr>\n",
       "      <th>8758</th>\n",
       "      <td>2020-12-31 22:00:00</td>\n",
       "      <td>22</td>\n",
       "      <td>-7804.471743</td>\n",
       "    </tr>\n",
       "    <tr>\n",
       "      <th>8759</th>\n",
       "      <td>2020-12-31 23:00:00</td>\n",
       "      <td>23</td>\n",
       "      <td>-7805.277663</td>\n",
       "    </tr>\n",
       "  </tbody>\n",
       "</table>\n",
       "<p>8760 rows × 3 columns</p>\n",
       "</div>"
      ],
      "text/plain": [
       "         Date/hour start  Hour  Cumulative battery charge level (kWh)\n",
       "0    2020-01-01 00:00:00     0                              -1.509849\n",
       "1    2020-01-01 01:00:00     1                              -2.921708\n",
       "2    2020-01-01 02:00:00     2                              -3.945605\n",
       "3    2020-01-01 03:00:00     3                              -4.587605\n",
       "4    2020-01-01 04:00:00     4                              -5.547605\n",
       "...                  ...   ...                                    ...\n",
       "8755 2020-12-31 19:00:00    19                           -7796.239143\n",
       "8756 2020-12-31 20:00:00    20                           -7800.796743\n",
       "8757 2020-12-31 21:00:00    21                           -7802.818743\n",
       "8758 2020-12-31 22:00:00    22                           -7804.471743\n",
       "8759 2020-12-31 23:00:00    23                           -7805.277663\n",
       "\n",
       "[8760 rows x 3 columns]"
      ]
     },
     "execution_count": 14,
     "metadata": {},
     "output_type": "execute_result"
    }
   ],
   "source": [
    "# Set the initial battery charge level to zero\n",
    "battery_charge_level = 0\n",
    "\n",
    "# Create an empty list to store the cumulative battery charge level\n",
    "cumulative_charge_level = []\n",
    "\n",
    "# Iterate over each row in the dataset\n",
    "for index, row in data.iterrows():\n",
    "    # Calculate the excess solar electricity generated over electricity used for the current hour\n",
    "    excess_solar_electricity = max(row['Solar electricity generation (kWh)'] - row['Electricity usage (kWh)'], 0)\n",
    "    \n",
    "    # Calculate the amount of electricity that needed to be bought from the electricity provider for the current hour\n",
    "    electricity_bought = max(row['Electricity usage (kWh)'] - row['Solar electricity generation (kWh)'], 0)\n",
    "    \n",
    "    # Calculate the battery charge level for the current hour\n",
    "    battery_charge_level = min(battery_charge_level + excess_solar_electricity - electricity_bought, 12.5)\n",
    "    \n",
    "    # Append the battery charge level to the cumulative_charge_level list\n",
    "    cumulative_charge_level.append(battery_charge_level)\n",
    "\n",
    "# Add the cumulative_charge_level list as a new column in the DataFrame\n",
    "data['Cumulative battery charge level (kWh)'] = cumulative_charge_level\n",
    "\n",
    "# Print the calculated values\n",
    "data[['Date/hour start', 'Hour', 'Cumulative battery charge level (kWh)']]\n"
   ]
  },
  {
   "cell_type": "markdown",
   "metadata": {},
   "source": [
    "### Question 5\n",
    "(v)\tCalculate the amount of electricity for each hour in 2020 that would have been bought from the electricity provider (measured in kWh and subject to a minimum of zero), assuming a battery had already been installed."
   ]
  },
  {
   "cell_type": "markdown",
   "metadata": {},
   "source": [
    "This code calculates the amount of electricity that would have been bought from the electricity provider for each hour in 2020, assuming a battery had already been installed. It initializes the battery charge level to zero and then iterates over each row in the dataset. For each hour, it calculates the excess solar electricity generated over electricity used and the amount of electricity that needed to be bought from the electricity provider. It updates the battery charge level based on the excess solar electricity, the electricity bought, and the maximum battery charge level of 12.5 kWh. The resulting amounts of electricity bought are stored in the electricity_bought list."
   ]
  },
  {
   "cell_type": "code",
   "execution_count": 15,
   "metadata": {},
   "outputs": [
    {
     "data": {
      "text/html": [
       "<div>\n",
       "<style scoped>\n",
       "    .dataframe tbody tr th:only-of-type {\n",
       "        vertical-align: middle;\n",
       "    }\n",
       "\n",
       "    .dataframe tbody tr th {\n",
       "        vertical-align: top;\n",
       "    }\n",
       "\n",
       "    .dataframe thead th {\n",
       "        text-align: right;\n",
       "    }\n",
       "</style>\n",
       "<table border=\"1\" class=\"dataframe\">\n",
       "  <thead>\n",
       "    <tr style=\"text-align: right;\">\n",
       "      <th></th>\n",
       "      <th>Date/hour start</th>\n",
       "      <th>Hour</th>\n",
       "      <th>Electricity bought (kWh)</th>\n",
       "    </tr>\n",
       "  </thead>\n",
       "  <tbody>\n",
       "    <tr>\n",
       "      <th>0</th>\n",
       "      <td>2020-01-01 00:00:00</td>\n",
       "      <td>0</td>\n",
       "      <td>1.509849</td>\n",
       "    </tr>\n",
       "    <tr>\n",
       "      <th>1</th>\n",
       "      <td>2020-01-01 01:00:00</td>\n",
       "      <td>1</td>\n",
       "      <td>0.000000</td>\n",
       "    </tr>\n",
       "    <tr>\n",
       "      <th>2</th>\n",
       "      <td>2020-01-01 02:00:00</td>\n",
       "      <td>2</td>\n",
       "      <td>0.000000</td>\n",
       "    </tr>\n",
       "    <tr>\n",
       "      <th>3</th>\n",
       "      <td>2020-01-01 03:00:00</td>\n",
       "      <td>3</td>\n",
       "      <td>0.000000</td>\n",
       "    </tr>\n",
       "    <tr>\n",
       "      <th>4</th>\n",
       "      <td>2020-01-01 04:00:00</td>\n",
       "      <td>4</td>\n",
       "      <td>0.000000</td>\n",
       "    </tr>\n",
       "    <tr>\n",
       "      <th>...</th>\n",
       "      <td>...</td>\n",
       "      <td>...</td>\n",
       "      <td>...</td>\n",
       "    </tr>\n",
       "    <tr>\n",
       "      <th>8755</th>\n",
       "      <td>2020-12-31 19:00:00</td>\n",
       "      <td>19</td>\n",
       "      <td>0.000000</td>\n",
       "    </tr>\n",
       "    <tr>\n",
       "      <th>8756</th>\n",
       "      <td>2020-12-31 20:00:00</td>\n",
       "      <td>20</td>\n",
       "      <td>0.000000</td>\n",
       "    </tr>\n",
       "    <tr>\n",
       "      <th>8757</th>\n",
       "      <td>2020-12-31 21:00:00</td>\n",
       "      <td>21</td>\n",
       "      <td>0.000000</td>\n",
       "    </tr>\n",
       "    <tr>\n",
       "      <th>8758</th>\n",
       "      <td>2020-12-31 22:00:00</td>\n",
       "      <td>22</td>\n",
       "      <td>0.000000</td>\n",
       "    </tr>\n",
       "    <tr>\n",
       "      <th>8759</th>\n",
       "      <td>2020-12-31 23:00:00</td>\n",
       "      <td>23</td>\n",
       "      <td>0.000000</td>\n",
       "    </tr>\n",
       "  </tbody>\n",
       "</table>\n",
       "<p>8760 rows × 3 columns</p>\n",
       "</div>"
      ],
      "text/plain": [
       "         Date/hour start  Hour  Electricity bought (kWh)\n",
       "0    2020-01-01 00:00:00     0                  1.509849\n",
       "1    2020-01-01 01:00:00     1                  0.000000\n",
       "2    2020-01-01 02:00:00     2                  0.000000\n",
       "3    2020-01-01 03:00:00     3                  0.000000\n",
       "4    2020-01-01 04:00:00     4                  0.000000\n",
       "...                  ...   ...                       ...\n",
       "8755 2020-12-31 19:00:00    19                  0.000000\n",
       "8756 2020-12-31 20:00:00    20                  0.000000\n",
       "8757 2020-12-31 21:00:00    21                  0.000000\n",
       "8758 2020-12-31 22:00:00    22                  0.000000\n",
       "8759 2020-12-31 23:00:00    23                  0.000000\n",
       "\n",
       "[8760 rows x 3 columns]"
      ]
     },
     "execution_count": 15,
     "metadata": {},
     "output_type": "execute_result"
    }
   ],
   "source": [
    "# Set the initial battery charge level to zero\n",
    "battery_charge_level = 0\n",
    "\n",
    "# Create an empty list to store the electricity bought from the electricity provider\n",
    "electricity_bought = []\n",
    "\n",
    "# Iterate over each row in the dataset\n",
    "for index, row in data.iterrows():\n",
    "    # Calculate the excess solar electricity generated over electricity used for the current hour\n",
    "    excess_solar_electricity = max(row['Solar electricity generation (kWh)'] - row['Electricity usage (kWh)'], 0)\n",
    "    \n",
    "    # Calculate the amount of electricity that needed to be bought from the electricity provider for the current hour\n",
    "    electricity_to_buy = max(row['Electricity bought (kWh)'] + battery_charge_level, 0)\n",
    "    \n",
    "    # Update the battery charge level for the next hour\n",
    "    battery_charge_level = min(battery_charge_level + excess_solar_electricity - electricity_to_buy, 12.5)\n",
    "    \n",
    "    # Append the amount of electricity bought to the electricity_bought list\n",
    "    electricity_bought.append(electricity_to_buy)\n",
    "\n",
    "# Add the electricity_bought list as a new column in the DataFrame\n",
    "data['Electricity bought (kWh)'] = electricity_bought\n",
    "\n",
    "# Print the calculated values\n",
    "data[['Date/hour start', 'Hour', 'Electricity bought (kWh)']]\n"
   ]
  },
  {
   "cell_type": "markdown",
   "metadata": {},
   "source": [
    "### Question 6\n",
    "(vi)\tCalculate the saving over 2020 (in dollars ($), using 1 January 2022 electricity prices and ignoring discounting) from installing a battery compared to using the existing solar panels alone."
   ]
  },
  {
   "cell_type": "markdown",
   "metadata": {},
   "source": [
    "The code calculates the excess electricity generated by the solar panels and stored in the battery by subtracting the electricity usage from the solar electricity generation. It also calculates the electricity bought from the electricity provider by subtracting the solar electricity generation from the electricity usage. The savings are then calculated by multiplying the difference between the electricity bought and the excess solar electricity by the electricity price for 2022. Finally, the total savings over 2020 are calculated by summing up the savings for each hour."
   ]
  },
  {
   "cell_type": "code",
   "execution_count": 16,
   "metadata": {},
   "outputs": [
    {
     "name": "stdout",
     "output_type": "stream",
     "text": [
      "Total savings over 2020: $ 1326.897202676\n"
     ]
    }
   ],
   "source": [
    "# Set the electricity prices for 2022\n",
    "electricity_price_2022 = 0.17  # Replace with the actual electricity price for 2022 in dollars per kWh\n",
    "\n",
    "# Calculate the excess electricity generated by the solar panels and stored in the battery\n",
    "data['Excess solar electricity (kWh)'] = data['Solar electricity generation (kWh)'] - data['Electricity usage (kWh)']\n",
    "data['Excess solar electricity (kWh)'] = data['Excess solar electricity (kWh)'].clip(lower=0)\n",
    "\n",
    "# Calculate the electricity bought from the electricity provider\n",
    "data['Electricity bought (kWh)'] = data['Electricity usage (kWh)'] - data['Solar electricity generation (kWh)']\n",
    "data['Electricity bought (kWh)'] = data['Electricity bought (kWh)'].clip(lower=0)\n",
    "\n",
    "# Calculate the savings from installing a battery compared to using the existing solar panels alone\n",
    "savings = (data['Electricity bought (kWh)'] - data['Excess solar electricity (kWh)']) * electricity_price_2022\n",
    "\n",
    "# Calculate the total savings over 2020\n",
    "total_savings = savings.sum()\n",
    "\n",
    "# Print the total savings\n",
    "print(\"Total savings over 2020: $\", total_savings)\n"
   ]
  },
  {
   "cell_type": "markdown",
   "metadata": {},
   "source": [
    "### Question 7\n",
    "(vii)\tTabulate the data appropriately and then produce a chart to illustrate, on a monthly basis for the calendar year and measured in kWh, the:\n",
    "\n",
    "•\tmonthly solar generation.\n",
    "\n",
    "•\tmonthly electricity usage.\n",
    "\n",
    "•\tmonthly electricity purchased from the electricity provider (no battery).\n",
    "\n",
    "•\tmonthly electricity purchased from the electricity provider (with battery).\n"
   ]
  },
  {
   "cell_type": "code",
   "execution_count": 17,
   "metadata": {},
   "outputs": [],
   "source": [
    "# Convert the 'Date/hour start' column to datetime format\n",
    "data['Date/hour start'] = pd.to_datetime(data['Date/hour start'])\n",
    "\n",
    "# Extract the month from the 'Date/hour start' column\n",
    "data['Month'] = data['Date/hour start'].dt.month\n",
    "# Calculate the monthly solar generation\n",
    "monthly_solar_generation = data.groupby('Month')['Solar electricity generation (kWh)'].sum()\n",
    "# Calculate the monthly electricity usage\n",
    "monthly_electricity_usage = data.groupby('Month')['Electricity usage (kWh)'].sum()\n",
    "# Calculate the monthly electricity purchased from the provider (without battery)\n",
    "monthly_electricity_from_provider_no_battery = data.groupby('Month')['Electricity usage (kWh)'].sum() - data.groupby('Month')['Solar electricity generation (kWh)'].sum()\n",
    "\n",
    "# Calculate the monthly electricity purchased from the provider (with battery)\n",
    "battery_charge = 0\n",
    "max_battery_charge = 12.5\n",
    "monthly_electricity_from_provider_with_battery = []\n",
    "\n",
    "# Iterate over each month\n",
    "for month in range(1, 13):\n",
    "    month_data = data[data['Month'] == month]\n",
    "    battery_charge = 0\n",
    "    electricity_from_provider_with_battery = 0\n",
    "    \n",
    "    # Iterate over each hour in the month\n",
    "    for index, row in month_data.iterrows():\n",
    "        excess_generation = row['Solar electricity generation (kWh)'] - row['Electricity usage (kWh)']\n",
    "        \n",
    "        # Check if there is excess generation to charge the battery\n",
    "        if excess_generation > 0:\n",
    "            # Calculate the new battery charge level\n",
    "            battery_charge = min(battery_charge + excess_generation, max_battery_charge)\n",
    "        \n",
    "        # Calculate the electricity from the provider\n",
    "        electricity_from_provider = max(row['Electricity usage (kWh)'] - battery_charge, 0)\n",
    "        electricity_from_provider_with_battery += electricity_from_provider\n",
    "    \n",
    "    monthly_electricity_from_provider_with_battery.append(electricity_from_provider_with_battery)\n",
    "    \n",
    "    "
   ]
  },
  {
   "cell_type": "code",
   "execution_count": 18,
   "metadata": {},
   "outputs": [
    {
     "name": "stdout",
     "output_type": "stream",
     "text": [
      "       Solar Generation (KWh)  Electricity Usage(KWh)  \\\n",
      "Month                                                   \n",
      "1                   266.25900             1722.634841   \n",
      "2                   449.63400             1520.759510   \n",
      "3                   600.32238             1697.581870   \n",
      "4                   907.10784             1671.404467   \n",
      "5                  1629.14937              945.439949   \n",
      "6                  1393.47960             1158.386298   \n",
      "7                  1357.65114             1190.215881   \n",
      "8                  1153.98753             1436.736291   \n",
      "9                   832.49238             1604.144625   \n",
      "10                  546.13200             1370.965445   \n",
      "11                  381.72300             1425.098329   \n",
      "12                  205.96500             1785.813395   \n",
      "\n",
      "       Electricity from Provider (No Battery) (KWh)  \\\n",
      "Month                                                 \n",
      "1                                       1456.375841   \n",
      "2                                       1071.125510   \n",
      "3                                       1097.259490   \n",
      "4                                        764.296627   \n",
      "5                                       -683.709421   \n",
      "6                                       -235.093302   \n",
      "7                                       -167.435259   \n",
      "8                                        282.748761   \n",
      "9                                        771.652245   \n",
      "10                                       824.833445   \n",
      "11                                      1043.375329   \n",
      "12                                      1579.848395   \n",
      "\n",
      "       Electricity from provider (With Battery)(KWh)  \n",
      "Month                                                 \n",
      "1                                         341.815491  \n",
      "2                                         222.677208  \n",
      "3                                         421.862717  \n",
      "4                                         386.627101  \n",
      "5                                         108.317278  \n",
      "6                                         136.818317  \n",
      "7                                         143.608902  \n",
      "8                                         258.803526  \n",
      "9                                         319.483572  \n",
      "10                                        210.157623  \n",
      "11                                        200.299566  \n",
      "12                                        249.750540  \n"
     ]
    }
   ],
   "source": [
    "monthly_data = pd.DataFrame({\n",
    "    'Month': range(1,13),\n",
    "    'Solar Generation (KWh)': monthly_solar_generation.values,\n",
    "    'Electricity Usage(KWh)': monthly_electricity_usage.values,\n",
    "    'Electricity from Provider (No Battery) (KWh)': monthly_electricity_from_provider_no_battery.values,\n",
    "    'Electricity from provider (With Battery)(KWh)': monthly_electricity_from_provider_with_battery\n",
    "})\n",
    "\n",
    "monthly_data.set_index('Month', inplace=True)\n",
    "\n",
    "print(monthly_data)"
   ]
  },
  {
   "cell_type": "code",
   "execution_count": 19,
   "metadata": {},
   "outputs": [
    {
     "data": {
      "image/png": "[encoded data removed]",
      "text/plain": [
       "<Figure size 1000x600 with 1 Axes>"
      ]
     },
     "metadata": {},
     "output_type": "display_data"
    }
   ],
   "source": [
    "# Plot the monthly data\n",
    "monthly_data.plot(kind='bar', figsize=(10, 6))\n",
    "plt.xlabel('Month')\n",
    "plt.ylabel('Electricity (kWh)')\n",
    "plt.title('Monthly Electricity Generation and Usage')\n",
    "plt.legend()\n",
    "plt.show()\n"
   ]
  },
  {
   "cell_type": "markdown",
   "metadata": {},
   "source": [
    "### Question 8\n",
    "(viii)\t(a)\tProject forward for 20 years from 1 January 2022 the annual savings from installing the battery for the two scenarios below.\n",
    "\n",
    "(b)\tFor the two scenarios, calculate the Net Present Value (NPV) of the future annual savings.\n",
    "\n",
    "The scenarios are as follows:\n",
    "\n",
    "1.\tElectricity prices increase as expected by the government, 4% p.a.\n",
    "2.\tElectricity price increases start at 4% p.a. and rise each year by an additional 0.25% p.a., as estimated by Naomi.\n"
   ]
  },
  {
   "cell_type": "code",
   "execution_count": 20,
   "metadata": {},
   "outputs": [],
   "source": [
    "# Calculate excess solar electricity and stored electricity for each hour\n",
    "data['Excess Solar Electricity'] = data['Solar electricity generation (kWh)'] - data['Electricity usage (kWh)']\n",
    "data['Stored Electricity'] = data['Excess Solar Electricity'].clip(lower=0, upper=12.5)\n",
    "\n",
    "# Calculate the total extra electricity that could be met from the solar panel and battery combination\n",
    "total_extra_electricity = data['Stored Electricity'].sum()##==7270.170351599999\n",
    "\n",
    "# Calculate the implied dollar savings in electricity costs\n",
    "electricity_price = 0.17\n",
    "implied_dollar_savings = (data['Stored Electricity'] * electricity_price).sum()\n",
    "discount_rate = 0.06"
   ]
  },
  {
   "cell_type": "code",
   "execution_count": 21,
   "metadata": {},
   "outputs": [
    {
     "name": "stdout",
     "output_type": "stream",
     "text": [
      "Scenario 1: Annual Savings\n",
      "Year 2022: $1235.93\n",
      "Year 2023: $1285.37\n",
      "Year 2024: $1336.78\n",
      "Year 2025: $1390.25\n",
      "Year 2026: $1445.86\n",
      "Year 2027: $1503.70\n",
      "Year 2028: $1563.84\n",
      "Year 2029: $1626.40\n",
      "Year 2030: $1691.45\n",
      "Year 2031: $1759.11\n",
      "Year 2032: $1829.48\n",
      "Year 2033: $1902.66\n",
      "Year 2034: $1978.76\n",
      "Year 2035: $2057.91\n",
      "Year 2036: $2140.23\n",
      "Year 2037: $2225.84\n",
      "Year 2038: $2314.87\n",
      "Year 2039: $2407.47\n",
      "Year 2040: $2503.77\n",
      "Year 2041: $2603.92\n",
      "\n",
      "Scenario 1: NPV\n",
      "$20751.57\n"
     ]
    }
   ],
   "source": [
    "annual_savings_scenario1 = []\n",
    "electricity_price_increase_scenario1 = 0.04\n",
    "for year in range(2022, 2042):\n",
    "    annual_savings_scenario1.append(implied_dollar_savings)\n",
    "    implied_dollar_savings *= (1 + electricity_price_increase_scenario1)\n",
    "\n",
    "# Print the annual savings for each scenario\n",
    "print(\"Scenario 1: Annual Savings\")\n",
    "for year, savings in zip(range(2022, 2042), annual_savings_scenario1):\n",
    "    print(f\"Year {year}: ${savings:.2f}\")\n",
    "\n",
    "# Calculate the NPV for scenario 1\n",
    "npv_scenario1 = sum([savings / (1 + discount_rate) ** (year - 2022) for year, savings in zip(range(2022, 2042), annual_savings_scenario1)])\n",
    "print(\"\\nScenario 1: NPV\")\n",
    "print(f\"${npv_scenario1:.2f}\")"
   ]
  },
  {
   "cell_type": "code",
   "execution_count": 22,
   "metadata": {},
   "outputs": [
    {
     "name": "stdout",
     "output_type": "stream",
     "text": [
      "\n",
      "Scenario 2: Annual Savings\n",
      "Year 2022: $2708.07\n",
      "Year 2023: $2823.17\n",
      "Year 2024: $2950.21\n",
      "Year 2025: $3090.34\n",
      "Year 2026: $3244.86\n",
      "Year 2027: $3415.22\n",
      "Year 2028: $3603.05\n",
      "Year 2029: $3810.23\n",
      "Year 2030: $4038.84\n",
      "Year 2031: $4291.27\n",
      "Year 2032: $4570.20\n",
      "Year 2033: $4878.69\n",
      "Year 2034: $5220.20\n",
      "Year 2035: $5598.66\n",
      "Year 2036: $6018.56\n",
      "Year 2037: $6485.00\n",
      "Year 2038: $7003.80\n",
      "Year 2039: $7581.61\n",
      "Year 2040: $8226.05\n",
      "Year 2041: $8945.83\n",
      "\n",
      "Scenario 2: NPV\n",
      "$52982.51\n"
     ]
    }
   ],
   "source": [
    "# Scenario 2: Electricity price increases start at 4% p.a. and rise each year by an additional 0.25% p.a.\n",
    "annual_savings_scenario2 = []\n",
    "electricity_price_increase_scenario2 = 0.04\n",
    "additional_price_increase_scenario2 = 0.0025\n",
    "for year in range(2022, 2042):\n",
    "    annual_savings_scenario2.append(implied_dollar_savings)\n",
    "    electricity_price_increase_scenario2 += additional_price_increase_scenario2\n",
    "    implied_dollar_savings *= (1 + electricity_price_increase_scenario2)\n",
    "print(\"\\nScenario 2: Annual Savings\")\n",
    "for year, savings in zip(range(2022, 2042), annual_savings_scenario2):\n",
    "    print(f\"Year {year}: ${savings:.2f}\")\n",
    "\n",
    "# Calculate the NPV for scenario 2\n",
    "npv_scenario2 = sum([savings / (1 + discount_rate) ** (year - 2022) for year, savings in zip(range(2022, 2042), annual_savings_scenario2)])\n",
    "# Print the NPV for each scenario\n",
    "print(\"\\nScenario 2: NPV\")\n",
    "print(f\"${npv_scenario2:.2f}\")\n"
   ]
  },
  {
   "cell_type": "markdown",
   "metadata": {},
   "source": [
    "### Question 9\n",
    "(ix)\tCalculate the Internal Rate of Return (IRR) for the two scenarios in part (viii) by determining the discount rate that equates the net present value of the future annual savings to the initial cost of the battery for each scenario.\t\n",
    "\n",
    "[Note: All scenarios outlined above should be modelled separately in your model. The user should not need to change the parameters to see the results.]\n"
   ]
  },
  {
   "cell_type": "code",
   "execution_count": 23,
   "metadata": {},
   "outputs": [],
   "source": [
    "# Initial cost of the battery\n",
    "battery_cost = 7000\n",
    "\n",
    "# Function to calculate the NPV for a given discount rate and annual savings\n",
    "def calculate_npv(discount_rate, annual_savings):\n",
    "    return sum([savings / (1 + discount_rate) ** (year - 2022) for year, savings in zip(range(2022, 2042), annual_savings)]) - battery_cost\n"
   ]
  },
  {
   "cell_type": "code",
   "execution_count": 24,
   "metadata": {},
   "outputs": [
    {
     "name": "stdout",
     "output_type": "stream",
     "text": [
      "Scenario 1: IRR\n",
      "25.69%\n"
     ]
    }
   ],
   "source": [
    "# Scenario 1: Calculate the IRR\n",
    "irr_scenario1 = fsolve(calculate_npv, 0.06, args=(annual_savings_scenario1,))[0]\n",
    "# Print the IRR for each scenario\n",
    "print(\"Scenario 1: IRR\")\n",
    "print(f\"{irr_scenario1 * 100:.2f}%\")"
   ]
  },
  {
   "cell_type": "code",
   "execution_count": 25,
   "metadata": {},
   "outputs": [
    {
     "name": "stdout",
     "output_type": "stream",
     "text": [
      "\n",
      "Scenario 2: IRR\n",
      "70.67%\n"
     ]
    }
   ],
   "source": [
    "# Scenario 2: Calculate the IRR\n",
    "irr_scenario2 = fsolve(calculate_npv, 0.06, args=(annual_savings_scenario2,))[0]\n",
    "print(\"\\nScenario 2: IRR\")\n",
    "print(f\"{irr_scenario2 * 100:.2f}%\")"
   ]
  }
 ],
 "metadata": {
  "kernelspec": {
   "display_name": "Python 3 (ipykernel)",
   "language": "python",
   "name": "python3"
  },
  "language_info": {
   "codemirror_mode": {
    "name": "ipython",
    "version": 3
   },
   "file_extension": ".py",
   "mimetype": "text/x-python",
   "name": "python",
   "nbconvert_exporter": "python",
   "pygments_lexer": "ipython3",
   "version": "3.11.3"
  }
 },
 "nbformat": 4,
 "nbformat_minor": 2
}
